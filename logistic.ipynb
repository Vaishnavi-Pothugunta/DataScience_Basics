{
 "cells": [
  {
   "cell_type": "code",
   "execution_count": 3,
   "metadata": {},
   "outputs": [],
   "source": [
    "# Importing the libraries\n",
    "import warnings\n",
    "import numpy as np\n",
    "import matplotlib.pyplot as plt\n",
    "import pandas as pd\n",
    "warnings.filterwarnings(\"ignore\")"
   ]
  },
  {
   "cell_type": "code",
   "execution_count": 4,
   "metadata": {},
   "outputs": [
    {
     "data": {
      "text/html": [
       "<div>\n",
       "<style scoped>\n",
       "    .dataframe tbody tr th:only-of-type {\n",
       "        vertical-align: middle;\n",
       "    }\n",
       "\n",
       "    .dataframe tbody tr th {\n",
       "        vertical-align: top;\n",
       "    }\n",
       "\n",
       "    .dataframe thead th {\n",
       "        text-align: right;\n",
       "    }\n",
       "</style>\n",
       "<table border=\"1\" class=\"dataframe\">\n",
       "  <thead>\n",
       "    <tr style=\"text-align: right;\">\n",
       "      <th></th>\n",
       "      <th>User ID</th>\n",
       "      <th>Gender</th>\n",
       "      <th>Age</th>\n",
       "      <th>EstimatedSalary</th>\n",
       "      <th>Purchased</th>\n",
       "    </tr>\n",
       "  </thead>\n",
       "  <tbody>\n",
       "    <tr>\n",
       "      <th>0</th>\n",
       "      <td>15624510</td>\n",
       "      <td>Male</td>\n",
       "      <td>19</td>\n",
       "      <td>19000</td>\n",
       "      <td>0</td>\n",
       "    </tr>\n",
       "    <tr>\n",
       "      <th>1</th>\n",
       "      <td>15810944</td>\n",
       "      <td>Male</td>\n",
       "      <td>35</td>\n",
       "      <td>20000</td>\n",
       "      <td>0</td>\n",
       "    </tr>\n",
       "    <tr>\n",
       "      <th>2</th>\n",
       "      <td>15668575</td>\n",
       "      <td>Female</td>\n",
       "      <td>26</td>\n",
       "      <td>43000</td>\n",
       "      <td>0</td>\n",
       "    </tr>\n",
       "    <tr>\n",
       "      <th>3</th>\n",
       "      <td>15603246</td>\n",
       "      <td>Female</td>\n",
       "      <td>27</td>\n",
       "      <td>57000</td>\n",
       "      <td>0</td>\n",
       "    </tr>\n",
       "    <tr>\n",
       "      <th>4</th>\n",
       "      <td>15804002</td>\n",
       "      <td>Male</td>\n",
       "      <td>19</td>\n",
       "      <td>76000</td>\n",
       "      <td>0</td>\n",
       "    </tr>\n",
       "  </tbody>\n",
       "</table>\n",
       "</div>"
      ],
      "text/plain": [
       "    User ID  Gender  Age  EstimatedSalary  Purchased\n",
       "0  15624510    Male   19            19000          0\n",
       "1  15810944    Male   35            20000          0\n",
       "2  15668575  Female   26            43000          0\n",
       "3  15603246  Female   27            57000          0\n",
       "4  15804002    Male   19            76000          0"
      ]
     },
     "execution_count": 4,
     "metadata": {},
     "output_type": "execute_result"
    }
   ],
   "source": [
    "# Importing the dataset\n",
    "dataset = pd.read_csv('Social_Network_Ads.csv')\n",
    "dataset.head()"
   ]
  },
  {
   "cell_type": "code",
   "execution_count": 5,
   "metadata": {},
   "outputs": [],
   "source": [
    "X = dataset.iloc[:, [2, 3]].values\n",
    "y = dataset.iloc[:, 4].values"
   ]
  },
  {
   "cell_type": "code",
   "execution_count": 6,
   "metadata": {},
   "outputs": [],
   "source": [
    "# Splitting the dataset into the Training set and Test set\n",
    "from sklearn.model_selection import train_test_split\n",
    "X_train, X_test, y_train, y_test = train_test_split(X, y, test_size = 0.2, random_state = 0)"
   ]
  },
  {
   "cell_type": "code",
   "execution_count": 7,
   "metadata": {},
   "outputs": [
    {
     "data": {
      "text/plain": [
       "(400, 5)"
      ]
     },
     "execution_count": 7,
     "metadata": {},
     "output_type": "execute_result"
    }
   ],
   "source": [
    "dataset.shape"
   ]
  },
  {
   "cell_type": "code",
   "execution_count": 8,
   "metadata": {},
   "outputs": [
    {
     "name": "stdout",
     "output_type": "stream",
     "text": [
      "The shape of tranning dataset is (320, 2)\n",
      "The shape of test data example is (80, 2)\n"
     ]
    }
   ],
   "source": [
    "print(\"The shape of tranning dataset is\", X_train.shape)\n",
    "print(\"The shape of test data example is\", X_test.shape)"
   ]
  },
  {
   "cell_type": "code",
   "execution_count": 19,
   "metadata": {},
   "outputs": [
    {
     "data": {
      "text/plain": [
       "array([-1.45716772e-17,  2.63677968e-17])"
      ]
     },
     "execution_count": 19,
     "metadata": {},
     "output_type": "execute_result"
    }
   ],
   "source": [
    "from sklearn.preprocessing import StandardScaler\n",
    "sc = StandardScaler()\n",
    "x_train=sc.fit_transform(X_train)\n",
    "sc.mean_\n"
   ]
  },
  {
   "cell_type": "code",
   "execution_count": 17,
   "metadata": {},
   "outputs": [
    {
     "data": {
      "text/plain": [
       "array([1., 1.])"
      ]
     },
     "execution_count": 17,
     "metadata": {},
     "output_type": "execute_result"
    }
   ],
   "source": [
    "sc.var_"
   ]
  },
  {
   "cell_type": "code",
   "execution_count": 10,
   "metadata": {
    "collapsed": true
   },
   "outputs": [
    {
     "data": {
      "text/plain": [
       "array([[ 1.92295008e+00,  2.14601566e+00],\n",
       "       [ 2.02016082e+00,  3.78719297e-01],\n",
       "       [-1.38221530e+00, -4.32498705e-01],\n",
       "       [-1.18779381e+00, -1.01194013e+00],\n",
       "       [ 1.92295008e+00, -9.25023920e-01],\n",
       "       [ 3.67578135e-01,  2.91803083e-01],\n",
       "       [ 1.73156642e-01,  1.46942725e-01],\n",
       "       [ 2.02016082e+00,  1.74040666e+00],\n",
       "       [ 7.56421121e-01, -8.38107706e-01],\n",
       "       [ 2.70367388e-01, -2.87638347e-01],\n",
       "       [ 3.67578135e-01, -1.71750061e-01],\n",
       "       [-1.18475597e-01,  2.20395980e+00],\n",
       "       [-1.47942605e+00, -6.35303205e-01],\n",
       "       [-1.28500455e+00, -1.06988428e+00],\n",
       "       [-1.38221530e+00,  4.07691369e-01],\n",
       "       [-1.09058306e+00,  7.55356227e-01],\n",
       "       [-1.47942605e+00, -2.00722133e-01],\n",
       "       [ 9.50842613e-01, -1.06988428e+00],\n",
       "       [ 9.50842613e-01,  5.81523798e-01],\n",
       "       [ 3.67578135e-01,  9.87132798e-01],\n",
       "       [ 5.61999628e-01, -8.96051849e-01],\n",
       "       [-6.04529329e-01,  1.45068594e+00],\n",
       "       [-2.12648508e-02, -5.77359062e-01],\n",
       "       [-6.04529329e-01,  1.88526701e+00],\n",
       "       [ 1.33968560e+00, -1.41754914e+00],\n",
       "       [ 1.43689635e+00,  9.87132798e-01],\n",
       "       [ 7.59458956e-02, -8.09135634e-01],\n",
       "       [-2.12648508e-02, -2.58666276e-01],\n",
       "       [-2.15686344e-01, -5.77359062e-01],\n",
       "       [-2.15686344e-01, -2.00722133e-01],\n",
       "       [-3.12897090e-01, -1.30166085e+00],\n",
       "       [-3.12897090e-01, -5.77359062e-01],\n",
       "       [ 3.67578135e-01,  8.89985821e-02],\n",
       "       [ 8.53631867e-01, -6.06331134e-01],\n",
       "       [ 2.02016082e+00, -1.18577256e+00],\n",
       "       [ 1.04805336e+00, -1.42777990e-01],\n",
       "       [ 6.59210374e-01,  1.76937873e+00],\n",
       "       [-7.01740076e-01,  5.52551726e-01],\n",
       "       [ 7.56421121e-01,  3.49747226e-01],\n",
       "       [ 8.53631867e-01, -5.48386991e-01],\n",
       "       [-1.18779381e+00, -1.59138156e+00],\n",
       "       [ 2.11737157e+00,  9.29188655e-01],\n",
       "       [-2.12648508e-02,  1.21890937e+00],\n",
       "       [ 1.73156642e-01,  1.07404901e+00],\n",
       "       [ 3.67578135e-01, -4.90442848e-01],\n",
       "       [-3.12897090e-01, -3.16610419e-01],\n",
       "       [ 9.50842613e-01, -8.38107706e-01],\n",
       "       [ 9.50842613e-01,  1.85629494e+00],\n",
       "       [-2.12648508e-02,  1.24788144e+00],\n",
       "       [-8.96161568e-01,  2.26190394e+00],\n",
       "       [-1.18779381e+00, -1.59138156e+00],\n",
       "       [ 2.11737157e+00, -8.09135634e-01],\n",
       "       [-1.38221530e+00, -1.47549328e+00],\n",
       "       [ 3.67578135e-01,  2.29087602e+00],\n",
       "       [ 7.56421121e-01,  7.55356227e-01],\n",
       "       [-9.93372315e-01, -3.16610419e-01],\n",
       "       [ 7.59458956e-02,  7.55356227e-01],\n",
       "       [-9.93372315e-01,  5.52551726e-01],\n",
       "       [ 2.70367388e-01,  6.00265106e-02],\n",
       "       [ 6.59210374e-01, -1.27268878e+00],\n",
       "       [-5.07318583e-01, -2.68897039e-02],\n",
       "       [-1.77105829e+00,  3.49747226e-01],\n",
       "       [-7.01740076e-01,  1.17970654e-01],\n",
       "       [ 3.67578135e-01,  2.91803083e-01],\n",
       "       [-3.12897090e-01,  6.00265106e-02],\n",
       "       [-5.07318583e-01,  2.29087602e+00],\n",
       "       [ 1.73156642e-01,  3.10544391e-02],\n",
       "       [ 1.24247485e+00,  2.20395980e+00],\n",
       "       [ 7.56421121e-01,  2.62831011e-01],\n",
       "       [-3.12897090e-01,  1.46942725e-01],\n",
       "       [-2.12648508e-02, -5.48386991e-01],\n",
       "       [-2.15686344e-01,  1.46942725e-01],\n",
       "       [-1.18475597e-01,  2.33858940e-01],\n",
       "       [-2.12648508e-02, -2.58666276e-01],\n",
       "       [ 2.11737157e+00,  1.10302108e+00],\n",
       "       [-1.77105829e+00,  3.49747226e-01],\n",
       "       [ 1.82573933e+00,  1.17970654e-01],\n",
       "       [ 3.67578135e-01, -1.42777990e-01],\n",
       "       [-1.18779381e+00,  2.91803083e-01],\n",
       "       [ 7.56421121e-01,  1.36376973e+00],\n",
       "       [-3.12897090e-01, -2.58666276e-01],\n",
       "       [-1.67384754e+00, -5.58617754e-02],\n",
       "       [-9.93372315e-01, -7.51191491e-01],\n",
       "       [ 2.70367388e-01,  4.94607583e-01],\n",
       "       [-1.18475597e-01, -1.06988428e+00],\n",
       "       [-1.09058306e+00,  5.81523798e-01],\n",
       "       [ 7.59458956e-02, -8.09135634e-01],\n",
       "       [-9.93372315e-01,  1.53760216e+00],\n",
       "       [-7.01740076e-01,  1.39274180e+00],\n",
       "       [-1.28500455e+00,  4.94607583e-01],\n",
       "       [-3.12897090e-01,  3.10544391e-02],\n",
       "       [-1.18475597e-01,  2.08236764e-03],\n",
       "       [-3.12897090e-01, -8.96051849e-01],\n",
       "       [ 8.53631867e-01, -1.35960499e+00],\n",
       "       [-3.12897090e-01,  2.23293187e+00],\n",
       "       [ 9.50842613e-01,  1.97218323e+00],\n",
       "       [-1.18779381e+00,  4.65635512e-01],\n",
       "       [-1.28500455e+00,  2.62831011e-01],\n",
       "       [ 1.33968560e+00,  1.97218323e+00],\n",
       "       [ 1.24247485e+00, -1.35960499e+00],\n",
       "       [-3.12897090e-01, -2.87638347e-01],\n",
       "       [-5.07318583e-01,  1.24788144e+00],\n",
       "       [-7.98950822e-01,  1.07404901e+00],\n",
       "       [ 9.50842613e-01, -1.06988428e+00],\n",
       "       [ 2.70367388e-01,  2.91803083e-01],\n",
       "       [ 9.50842613e-01,  7.55356227e-01],\n",
       "       [-7.01740076e-01, -1.50446535e+00],\n",
       "       [-7.01740076e-01,  3.10544391e-02],\n",
       "       [ 4.64788881e-01,  1.71143459e+00],\n",
       "       [ 2.02016082e+00,  1.75914797e-01],\n",
       "       [-1.96547978e+00, -7.51191491e-01],\n",
       "       [-2.15686344e-01,  1.39274180e+00],\n",
       "       [ 3.67578135e-01,  5.81523798e-01],\n",
       "       [ 8.53631867e-01, -1.15680049e+00],\n",
       "       [-1.18779381e+00, -7.80163563e-01],\n",
       "       [ 1.73156642e-01,  2.33858940e-01],\n",
       "       [ 7.56421121e-01, -3.16610419e-01],\n",
       "       [ 2.02016082e+00, -8.09135634e-01],\n",
       "       [ 7.56421121e-01,  1.17970654e-01],\n",
       "       [-3.12897090e-01,  6.10495869e-01],\n",
       "       [-9.93372315e-01, -3.16610419e-01],\n",
       "       [ 1.73156642e-01, -3.74554562e-01],\n",
       "       [ 2.02016082e+00,  2.11704359e+00],\n",
       "       [ 1.82573933e+00, -1.27268878e+00],\n",
       "       [ 1.33968560e+00, -9.25023920e-01],\n",
       "       [ 8.53631867e-01,  1.24788144e+00],\n",
       "       [ 1.43689635e+00,  2.11704359e+00],\n",
       "       [-3.12897090e-01, -1.24371671e+00],\n",
       "       [ 1.92295008e+00,  9.00216584e-01],\n",
       "       [ 6.59210374e-01, -7.22219420e-01],\n",
       "       [-1.47942605e+00,  3.49747226e-01],\n",
       "       [ 7.56421121e-01, -1.35960499e+00],\n",
       "       [ 3.67578135e-01, -1.42777990e-01],\n",
       "       [-9.93372315e-01,  4.07691369e-01],\n",
       "       [-2.12648508e-02, -3.16610419e-01],\n",
       "       [-1.18779381e+00,  4.07691369e-01],\n",
       "       [-8.96161568e-01, -1.21474464e+00],\n",
       "       [-1.18475597e-01,  3.10544391e-02],\n",
       "       [-1.57663679e+00, -4.32498705e-01],\n",
       "       [ 9.50842613e-01, -1.01194013e+00],\n",
       "       [ 1.04805336e+00, -1.21474464e+00],\n",
       "       [-2.12648508e-02, -1.42777990e-01],\n",
       "       [-1.09058306e+00, -1.53343742e+00],\n",
       "       [ 7.56421121e-01, -1.21474464e+00],\n",
       "       [ 9.50842613e-01,  2.05909944e+00],\n",
       "       [-1.18779381e+00, -1.53343742e+00],\n",
       "       [-3.12897090e-01,  7.84328298e-01],\n",
       "       [ 7.59458956e-02, -3.16610419e-01],\n",
       "       [-1.38221530e+00, -1.24371671e+00],\n",
       "       [-6.04529329e-01, -1.50446535e+00],\n",
       "       [ 7.56421121e-01,  5.23579655e-01],\n",
       "       [-3.12897090e-01, -3.45582490e-01],\n",
       "       [ 1.72852858e+00, -2.87638347e-01],\n",
       "       [ 8.53631867e-01, -1.04091221e+00],\n",
       "       [ 1.73156642e-01,  6.00265106e-02],\n",
       "       [-6.04529329e-01,  8.71244512e-01],\n",
       "       [-1.86826903e+00, -1.41754914e+00],\n",
       "       [-1.28500455e+00,  5.81523798e-01],\n",
       "       [-3.12897090e-01,  5.23579655e-01],\n",
       "       [-9.93372315e-01, -1.09885635e+00],\n",
       "       [ 1.14526411e+00, -1.44652121e+00],\n",
       "       [ 1.73156642e-01, -3.16610419e-01],\n",
       "       [ 1.14526411e+00, -7.51191491e-01],\n",
       "       [-3.12897090e-01,  6.00265106e-02],\n",
       "       [ 1.73156642e-01,  2.08807152e+00],\n",
       "       [ 7.56421121e-01, -1.09885635e+00],\n",
       "       [ 7.59458956e-02,  3.10544391e-02],\n",
       "       [-1.77105829e+00,  1.17970654e-01],\n",
       "       [-8.96161568e-01,  1.46942725e-01],\n",
       "       [-7.01740076e-01,  1.75914797e-01],\n",
       "       [ 8.53631867e-01, -1.30166085e+00],\n",
       "       [ 1.73156642e-01, -2.58666276e-01],\n",
       "       [-4.10107836e-01,  1.21890937e+00],\n",
       "       [-2.12648508e-02,  2.91803083e-01],\n",
       "       [ 3.67578135e-01,  1.46942725e-01],\n",
       "       [ 8.53631867e-01, -6.64275277e-01],\n",
       "       [ 7.59458956e-02,  1.46942725e-01],\n",
       "       [-1.86826903e+00, -1.30166085e+00],\n",
       "       [-1.18475597e-01,  2.91803083e-01],\n",
       "       [-2.15686344e-01, -2.87638347e-01],\n",
       "       [ 2.70367388e-01, -5.19414919e-01],\n",
       "       [-2.15686344e-01,  1.59554630e+00],\n",
       "       [ 9.50842613e-01, -1.18577256e+00],\n",
       "       [-2.15686344e-01,  1.62451837e+00],\n",
       "       [ 1.24247485e+00,  1.85629494e+00],\n",
       "       [-1.09058306e+00, -3.74554562e-01],\n",
       "       [-2.12648508e-02,  3.10544391e-02],\n",
       "       [ 7.59458956e-02, -2.58666276e-01],\n",
       "       [-1.57663679e+00, -1.24371671e+00],\n",
       "       [-5.07318583e-01, -2.87638347e-01],\n",
       "       [ 9.50842613e-01,  1.17970654e-01],\n",
       "       [ 1.92295008e+00, -1.35960499e+00],\n",
       "       [ 1.43689635e+00,  6.00265106e-02],\n",
       "       [-6.04529329e-01,  1.36376973e+00],\n",
       "       [ 1.53410709e+00,  2.08236764e-03],\n",
       "       [-7.98950822e-01,  2.91803083e-01],\n",
       "       [ 1.92295008e+00,  7.26384155e-01],\n",
       "       [-1.18779381e+00, -5.19414919e-01],\n",
       "       [ 6.59210374e-01,  2.62831011e-01],\n",
       "       [-1.38221530e+00, -4.32498705e-01],\n",
       "       [ 1.73156642e-01,  1.46942725e-01],\n",
       "       [-5.07318583e-01, -1.21474464e+00],\n",
       "       [ 5.61999628e-01,  2.00115530e+00],\n",
       "       [-1.57663679e+00, -1.50446535e+00],\n",
       "       [-5.07318583e-01, -5.48386991e-01],\n",
       "       [ 4.64788881e-01,  1.82732287e+00],\n",
       "       [-1.38221530e+00, -1.09885635e+00],\n",
       "       [ 7.56421121e-01, -1.38857706e+00],\n",
       "       [-3.12897090e-01, -4.32498705e-01],\n",
       "       [ 1.53410709e+00,  9.87132798e-01],\n",
       "       [ 9.50842613e-01,  1.42171387e+00],\n",
       "       [-3.12897090e-01, -4.90442848e-01],\n",
       "       [-1.18475597e-01,  2.14601566e+00],\n",
       "       [-1.47942605e+00, -1.13805918e-01],\n",
       "       [-1.18475597e-01,  1.94321116e+00],\n",
       "       [-7.01740076e-01, -3.45582490e-01],\n",
       "       [-5.07318583e-01, -8.38107706e-01],\n",
       "       [ 6.59210374e-01, -1.38857706e+00],\n",
       "       [-7.98950822e-01, -1.59138156e+00],\n",
       "       [-1.86826903e+00, -1.47549328e+00],\n",
       "       [ 1.04805336e+00,  1.17970654e-01],\n",
       "       [ 7.59458956e-02,  1.50863009e+00],\n",
       "       [-3.12897090e-01,  8.89985821e-02],\n",
       "       [ 7.59458956e-02,  3.10544391e-02],\n",
       "       [-1.38221530e+00, -1.35960499e+00],\n",
       "       [ 2.70367388e-01,  6.00265106e-02],\n",
       "       [-8.96161568e-01,  3.78719297e-01],\n",
       "       [ 1.53410709e+00, -1.27268878e+00],\n",
       "       [-3.12897090e-01, -7.51191491e-01],\n",
       "       [-1.18475597e-01,  1.46942725e-01],\n",
       "       [-8.96161568e-01, -6.64275277e-01],\n",
       "       [-7.01740076e-01, -5.58617754e-02],\n",
       "       [ 3.67578135e-01, -4.61470776e-01],\n",
       "       [-7.98950822e-01,  1.88526701e+00],\n",
       "       [ 1.33968560e+00,  1.27685351e+00],\n",
       "       [ 1.14526411e+00, -9.82968063e-01],\n",
       "       [ 1.72852858e+00,  1.82732287e+00],\n",
       "       [-8.96161568e-01, -2.58666276e-01],\n",
       "       [-7.98950822e-01,  5.52551726e-01],\n",
       "       [-1.18779381e+00, -1.56240949e+00],\n",
       "       [-5.07318583e-01, -1.12782842e+00],\n",
       "       [ 2.70367388e-01,  6.00265106e-02],\n",
       "       [-2.15686344e-01, -1.06988428e+00],\n",
       "       [ 1.63131784e+00,  1.59554630e+00],\n",
       "       [ 9.50842613e-01,  1.76937873e+00],\n",
       "       [ 2.70367388e-01,  3.10544391e-02],\n",
       "       [-7.98950822e-01, -2.29694204e-01],\n",
       "       [-1.18475597e-01,  6.00265106e-02],\n",
       "       [ 2.70367388e-01, -2.00722133e-01],\n",
       "       [ 1.92295008e+00, -6.64275277e-01],\n",
       "       [-7.98950822e-01,  1.33479766e+00],\n",
       "       [-1.77105829e+00, -6.06331134e-01],\n",
       "       [-1.18475597e-01,  1.17970654e-01],\n",
       "       [ 2.70367388e-01, -3.16610419e-01],\n",
       "       [ 1.04805336e+00,  5.52551726e-01],\n",
       "       [-9.93372315e-01,  2.62831011e-01],\n",
       "       [ 1.43689635e+00,  3.49747226e-01],\n",
       "       [ 1.73156642e-01, -3.74554562e-01],\n",
       "       [ 2.11737157e+00, -1.04091221e+00],\n",
       "       [-3.12897090e-01,  1.10302108e+00],\n",
       "       [-1.67384754e+00,  6.00265106e-02],\n",
       "       [-2.12648508e-02,  3.10544391e-02],\n",
       "       [ 7.59458956e-02,  1.04507694e+00],\n",
       "       [-1.18475597e-01, -3.74554562e-01],\n",
       "       [-1.18779381e+00,  6.00265106e-02],\n",
       "       [-3.12897090e-01, -1.35960499e+00],\n",
       "       [ 1.53410709e+00,  1.10302108e+00],\n",
       "       [-7.98950822e-01, -1.53343742e+00],\n",
       "       [ 7.59458956e-02,  1.85629494e+00],\n",
       "       [-8.96161568e-01, -7.80163563e-01],\n",
       "       [-5.07318583e-01, -7.80163563e-01],\n",
       "       [-3.12897090e-01, -9.25023920e-01],\n",
       "       [ 2.70367388e-01, -7.22219420e-01],\n",
       "       [ 2.70367388e-01,  6.00265106e-02],\n",
       "       [ 7.59458956e-02,  1.85629494e+00],\n",
       "       [-1.09058306e+00,  1.94321116e+00],\n",
       "       [-1.67384754e+00, -1.56240949e+00],\n",
       "       [-1.18779381e+00, -1.09885635e+00],\n",
       "       [-7.01740076e-01, -1.13805918e-01],\n",
       "       [ 7.59458956e-02,  8.89985821e-02],\n",
       "       [ 2.70367388e-01,  2.62831011e-01],\n",
       "       [ 8.53631867e-01, -5.77359062e-01],\n",
       "       [ 2.70367388e-01, -1.15680049e+00],\n",
       "       [-1.18475597e-01,  6.68440012e-01],\n",
       "       [ 2.11737157e+00, -6.93247348e-01],\n",
       "       [-1.28500455e+00, -1.38857706e+00],\n",
       "       [-9.93372315e-01, -9.53995992e-01],\n",
       "       [-2.12648508e-02, -4.32498705e-01],\n",
       "       [-2.15686344e-01, -4.61470776e-01],\n",
       "       [-1.77105829e+00, -9.82968063e-01],\n",
       "       [ 1.72852858e+00,  9.87132798e-01],\n",
       "       [ 1.73156642e-01, -3.74554562e-01],\n",
       "       [ 3.67578135e-01,  1.10302108e+00],\n",
       "       [-1.77105829e+00, -1.35960499e+00],\n",
       "       [ 1.73156642e-01, -1.42777990e-01],\n",
       "       [ 8.53631867e-01, -1.44652121e+00],\n",
       "       [-1.96547978e+00,  4.65635512e-01],\n",
       "       [-3.12897090e-01,  2.62831011e-01],\n",
       "       [ 1.82573933e+00, -1.06988428e+00],\n",
       "       [-4.10107836e-01,  6.00265106e-02],\n",
       "       [ 1.04805336e+00, -8.96051849e-01],\n",
       "       [-1.09058306e+00, -1.12782842e+00],\n",
       "       [-1.86826903e+00,  2.08236764e-03],\n",
       "       [ 7.59458956e-02,  2.62831011e-01],\n",
       "       [-1.18779381e+00,  3.20775154e-01],\n",
       "       [-1.28500455e+00,  2.91803083e-01],\n",
       "       [-9.93372315e-01,  4.36663440e-01],\n",
       "       [ 1.63131784e+00, -8.96051849e-01],\n",
       "       [ 1.14526411e+00,  5.23579655e-01],\n",
       "       [ 1.04805336e+00,  5.23579655e-01],\n",
       "       [ 1.33968560e+00,  2.31984809e+00],\n",
       "       [-3.12897090e-01, -1.42777990e-01],\n",
       "       [ 3.67578135e-01, -4.61470776e-01],\n",
       "       [-4.10107836e-01, -7.80163563e-01],\n",
       "       [-1.18475597e-01, -5.19414919e-01],\n",
       "       [ 9.50842613e-01, -1.15680049e+00],\n",
       "       [-8.96161568e-01, -7.80163563e-01],\n",
       "       [-2.15686344e-01, -5.19414919e-01],\n",
       "       [-1.09058306e+00, -4.61470776e-01],\n",
       "       [-1.18779381e+00,  1.39274180e+00]])"
      ]
     },
     "execution_count": 10,
     "metadata": {},
     "output_type": "execute_result"
    }
   ],
   "source": [
    "X_train"
   ]
  },
  {
   "cell_type": "markdown",
   "metadata": {},
   "source": [
    "### Fitting Logistic Regression to the Training set"
   ]
  },
  {
   "cell_type": "code",
   "execution_count": null,
   "metadata": {},
   "outputs": [],
   "source": [
    "from sklearn.preprocessing import "
   ]
  },
  {
   "cell_type": "markdown",
   "metadata": {},
   "source": [
    "### Predicting the Test set results"
   ]
  },
  {
   "cell_type": "code",
   "execution_count": null,
   "metadata": {},
   "outputs": [],
   "source": []
  },
  {
   "cell_type": "code",
   "execution_count": 21,
   "metadata": {},
   "outputs": [],
   "source": [
    "def predict(a, b):\n",
    "    a_ = (a - X[:, [0]].mean())/X[:, [0]].std()\n",
    "    b_ = (b - X[:, [1]].mean())/X[:, [1]].std()\n",
    "    pred = classifier.predict([[a_, b_]])\n",
    "    return pred"
   ]
  },
  {
   "cell_type": "code",
   "execution_count": 22,
   "metadata": {},
   "outputs": [
    {
     "data": {
      "text/plain": [
       "array([1], dtype=int64)"
      ]
     },
     "execution_count": 22,
     "metadata": {},
     "output_type": "execute_result"
    }
   ],
   "source": [
    "predict(40, 14000000)"
   ]
  },
  {
   "cell_type": "markdown",
   "metadata": {},
   "source": [
    "### Making the Confusion Matrix"
   ]
  },
  {
   "cell_type": "code",
   "execution_count": null,
   "metadata": {},
   "outputs": [],
   "source": []
  },
  {
   "cell_type": "code",
   "execution_count": null,
   "metadata": {},
   "outputs": [],
   "source": []
  },
  {
   "cell_type": "code",
   "execution_count": 52,
   "metadata": {},
   "outputs": [
    {
     "name": "stderr",
     "output_type": "stream",
     "text": [
      "'c' argument looks like a single numeric RGB or RGBA sequence, which should be avoided as value-mapping will have precedence in case its length matches with 'x' & 'y'.  Please use a 2-D array with a single row if you really want to specify the same RGB or RGBA value for all points.\n",
      "'c' argument looks like a single numeric RGB or RGBA sequence, which should be avoided as value-mapping will have precedence in case its length matches with 'x' & 'y'.  Please use a 2-D array with a single row if you really want to specify the same RGB or RGBA value for all points.\n"
     ]
    },
    {
     "data": {
      "image/png": "[encoded data removed]",
      "text/plain": [
       "<Figure size 432x288 with 1 Axes>"
      ]
     },
     "metadata": {
      "needs_background": "light"
     },
     "output_type": "display_data"
    }
   ],
   "source": [
    "# Visualising the Training set results\n",
    "from matplotlib.colors import ListedColormap\n",
    "X_set, y_set = X_train, y_train\n",
    "X1, X2 = np.meshgrid(np.arange(start = X_set[:, 0].min() - 1, stop = X_set[:, 0].max() + 1, step = 0.01),\n",
    "                     np.arange(start = X_set[:, 1].min() - 1, stop = X_set[:, 1].max() + 1, step = 0.01))\n",
    "plt.contourf(X1, X2, classifier.predict(np.array([X1.ravel(), X2.ravel()]).T).reshape(X1.shape),\n",
    "             alpha = 0.75, cmap = ListedColormap(('red', 'green')))\n",
    "plt.xlim(X1.min(), X1.max())\n",
    "plt.ylim(X2.min(), X2.max())\n",
    "for i, j in enumerate(np.unique(y_set)):\n",
    "    plt.scatter(X_set[y_set == j, 0], X_set[y_set == j, 1],\n",
    "                c = ListedColormap(('red', 'green'))(i), label = j)\n",
    "plt.title('Logistic Regression (Training set)')\n",
    "plt.xlabel('Age')\n",
    "plt.ylabel('Estimated Salary')\n",
    "plt.legend()\n",
    "plt.show()"
   ]
  },
  {
   "cell_type": "code",
   "execution_count": 53,
   "metadata": {},
   "outputs": [
    {
     "name": "stderr",
     "output_type": "stream",
     "text": [
      "'c' argument looks like a single numeric RGB or RGBA sequence, which should be avoided as value-mapping will have precedence in case its length matches with 'x' & 'y'.  Please use a 2-D array with a single row if you really want to specify the same RGB or RGBA value for all points.\n",
      "'c' argument looks like a single numeric RGB or RGBA sequence, which should be avoided as value-mapping will have precedence in case its length matches with 'x' & 'y'.  Please use a 2-D array with a single row if you really want to specify the same RGB or RGBA value for all points.\n"
     ]
    },
    {
     "data": {
      "image/png": "[encoded data removed]",
      "text/plain": [
       "<Figure size 432x288 with 1 Axes>"
      ]
     },
     "metadata": {
      "needs_background": "light"
     },
     "output_type": "display_data"
    }
   ],
   "source": [
    "# Visualising the Test set results\n",
    "from matplotlib.colors import ListedColormap\n",
    "X_set, y_set = X_test, y_test\n",
    "X1, X2 = np.meshgrid(np.arange(start = X_set[:, 0].min() - 1, stop = X_set[:, 0].max() + 1, step = 0.01),\n",
    "                     np.arange(start = X_set[:, 1].min() - 1, stop = X_set[:, 1].max() + 1, step = 0.01))\n",
    "plt.contourf(X1, X2, classifier.predict(np.array([X1.ravel(), X2.ravel()]).T).reshape(X1.shape),\n",
    "             alpha = 0.75, cmap = ListedColormap(('red', 'green')))\n",
    "plt.xlim(X1.min(), X1.max())\n",
    "plt.ylim(X2.min(), X2.max())\n",
    "for i, j in enumerate(np.unique(y_set)):\n",
    "    plt.scatter(X_set[y_set == j, 0], X_set[y_set == j, 1],\n",
    "                c = ListedColormap(('red', 'green'))(i), label = j)\n",
    "plt.title('Logistic Regression (Test set)')\n",
    "plt.xlabel('Age')\n",
    "plt.ylabel('Estimated Salary')\n",
    "plt.legend()\n",
    "plt.show()"
   ]
  },
  {
   "cell_type": "code",
   "execution_count": null,
   "metadata": {},
   "outputs": [],
   "source": []
  },
  {
   "cell_type": "code",
   "execution_count": null,
   "metadata": {},
   "outputs": [],
   "source": []
  }
 ],
 "metadata": {
  "kernelspec": {
   "display_name": "Python 3",
   "language": "python",
   "name": "python3"
  },
  "language_info": {
   "codemirror_mode": {
    "name": "ipython",
    "version": 3
   },
   "file_extension": ".py",
   "mimetype": "text/x-python",
   "name": "python",
   "nbconvert_exporter": "python",
   "pygments_lexer": "ipython3",
   "version": "3.8.8"
  }
 },
 "nbformat": 4,
 "nbformat_minor": 4
}
