{
 "cells": [
  {
   "cell_type": "markdown",
   "metadata": {},
   "source": [
    "## Assigment - 1"
   ]
  },
  {
   "cell_type": "markdown",
   "metadata": {},
   "source": [
    "### What Is Rock Paper Scissors?\n",
    "You may have played rock paper scissors before. Maybe you’ve used it to decide who pays for dinner or who gets first choice of players for a team.\n",
    "\n",
    "If you’re unfamiliar, rock paper scissors is a hand game for two or more players. Participants say “rock, paper, scissors” and then simultaneously form their hands into the shape of a rock (a fist), a piece of paper (palm facing downward), or a pair of scissors (two fingers extended). The rules are straightforward:\n",
    "\n",
    "* Rock smashes scissors.\n",
    "* Paper covers rock.\n",
    "* Scissors cut paper.\n",
    "\n",
    "Now that you have the rules down, you can start thinking about how they might translate to Python code."
   ]
  },
  {
   "cell_type": "markdown",
   "metadata": {},
   "source": [
    "<img src=\"https://pytechcoding.com/wp-content/uploads/2019/07/rps-300x287.png\" width=\"500\" /> "
   ]
  },
  {
   "cell_type": "code",
   "execution_count": 2,
   "metadata": {},
   "outputs": [
    {
     "name": "stdout",
     "output_type": "stream",
     "text": [
      "Rock, Paper, Scissor?\n",
      "Enter:Rock\n",
      "Scissor\n",
      "You win!\n"
     ]
    }
   ],
   "source": [
    "import numpy as np\n",
    "a = np.random.randint(3)\n",
    "lis=[\"Rock\",\"Paper\",\"Scissor\"]\n",
    "print(\"Rock, Paper, Scissor?\")\n",
    "i=input(\"Enter:\").lower()\n",
    "val = lis[a]    # convert to lowercase\n",
    "print(lis[a])\n",
    "if i==val:\n",
    "    print('Tie')\n",
    "elif i=='rock':\n",
    "    if val==\"paper\":\n",
    "        print(\"You lose!\")\n",
    "    else:\n",
    "        print(\"You win!\")\n",
    "elif i=='paper':\n",
    "    if val==\"scissor\":\n",
    "        print(\"You lose!\")\n",
    "    else:\n",
    "        print(\"You win!\")\n",
    "elif i=='scissor':\n",
    "    if val==\"paper\":\n",
    "        print(\"You lose!\")\n",
    "    else:\n",
    "        print(\"You win!\")\n",
    "else:\n",
    "    print(\"That's not a valid play, Check your spelling\")"
   ]
  },
  {
   "cell_type": "markdown",
   "metadata": {},
   "source": [
    "## Assigment - 2\n",
    "### Findout the emails from the emails.txt dataset"
   ]
  },
  {
   "cell_type": "code",
   "execution_count": 7,
   "metadata": {},
   "outputs": [
    {
     "name": "stdout",
     "output_type": "stream",
     "text": [
      "stephen.marquard@uct.ac.za\n",
      "louis@media.berkeley.edu\n",
      "zqian@umich.edu\n",
      "rjlowe@iupui.edu\n",
      "zqian@umich.edu\n",
      "rjlowe@iupui.edu\n",
      "cwen@iupui.edu\n",
      "cwen@iupui.edu\n",
      "gsilver@umich.edu\n",
      "gsilver@umich.edu\n",
      "zqian@umich.edu\n",
      "gsilver@umich.edu\n",
      "wagnermr@iupui.edu\n",
      "zqian@umich.edu\n",
      "antranig@caret.cam.ac.uk\n",
      "gopal.ramasammycook@gmail.com\n",
      "david.horwitz@uct.ac.za\n",
      "david.horwitz@uct.ac.za\n",
      "david.horwitz@uct.ac.za\n",
      "david.horwitz@uct.ac.za\n",
      "stephen.marquard@uct.ac.za\n",
      "louis@media.berkeley.edu\n",
      "louis@media.berkeley.edu\n",
      "ray@media.berkeley.edu\n",
      "cwen@iupui.edu\n",
      "cwen@iupui.edu\n",
      "cwen@iupui.edu\n"
     ]
    }
   ],
   "source": [
    "data = open('emails.txt')\n",
    "for email in data:\n",
    "    if email.startswith('From:'):\n",
    "        email=email.strip()\n",
    "        email=email.split()[1]\n",
    "        print(email)"
   ]
  },
  {
   "cell_type": "markdown",
   "metadata": {},
   "source": [
    "### Also count the frequency of every email"
   ]
  },
  {
   "cell_type": "code",
   "execution_count": 17,
   "metadata": {},
   "outputs": [
    {
     "name": "stdout",
     "output_type": "stream",
     "text": [
      "{'stephen.marquard@uct.ac.za': 2, 'louis@media.berkeley.edu': 3, 'zqian@umich.edu': 4, 'rjlowe@iupui.edu': 2, 'cwen@iupui.edu': 5, 'gsilver@umich.edu': 3, 'wagnermr@iupui.edu': 1, 'antranig@caret.cam.ac.uk': 1, 'gopal.ramasammycook@gmail.com': 1, 'david.horwitz@uct.ac.za': 4, 'ray@media.berkeley.edu': 1}\n"
     ]
    }
   ],
   "source": [
    "data = open('emails.txt')\n",
    "dic = {}\n",
    "for email in data:\n",
    "    if email.startswith('From:'):\n",
    "        email=email.strip()\n",
    "        email=email.split()[1]\n",
    "        if email not in dic:\n",
    "            dic[email] = 1\n",
    "        else:\n",
    "            dic[email] += 1\n",
    "print(dic)\n",
    "        "
   ]
  },
  {
   "cell_type": "code",
   "execution_count": null,
   "metadata": {},
   "outputs": [],
   "source": []
  }
 ],
 "metadata": {
  "kernelspec": {
   "display_name": "Python 3",
   "language": "python",
   "name": "python3"
  },
  "language_info": {
   "codemirror_mode": {
    "name": "ipython",
    "version": 3
   },
   "file_extension": ".py",
   "mimetype": "text/x-python",
   "name": "python",
   "nbconvert_exporter": "python",
   "pygments_lexer": "ipython3",
   "version": "3.8.8"
  }
 },
 "nbformat": 4,
 "nbformat_minor": 2
}
