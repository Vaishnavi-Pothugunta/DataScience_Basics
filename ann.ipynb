{
 "cells": [
  {
   "cell_type": "markdown",
   "metadata": {
    "colab_type": "text",
    "id": "lP6JLo1tGNBg"
   },
   "source": [
    "# Artificial Neural Network"
   ]
  },
  {
   "cell_type": "markdown",
   "metadata": {
    "colab_type": "text",
    "id": "gWZyYmS_UE_L"
   },
   "source": [
    "### Importing the libraries"
   ]
  },
  {
   "cell_type": "code",
   "execution_count": 1,
   "metadata": {
    "colab": {},
    "colab_type": "code",
    "id": "MxkJoQBkUIHC"
   },
   "outputs": [],
   "source": [
    "import numpy as np\n",
    "import pandas as pd\n",
    "import tensorflow as tf\n",
    "import tensorflow as tf\n",
    "\n",
    "from tensorflow import keras\n",
    "from tensorflow.keras import layers\n",
    "from tensorflow.keras.layers.experimental import preprocessing"
   ]
  },
  {
   "cell_type": "code",
   "execution_count": 2,
   "metadata": {
    "colab": {
     "base_uri": "https://localhost:8080/",
     "height": 34
    },
    "colab_type": "code",
    "id": "ZaTwK7ojXr2F",
    "outputId": "0b27a96d-d11a-43e8-ab4b-87c1f01896fe"
   },
   "outputs": [
    {
     "data": {
      "text/plain": [
       "'2.5.0'"
      ]
     },
     "execution_count": 2,
     "metadata": {},
     "output_type": "execute_result"
    }
   ],
   "source": [
    "tf.__version__"
   ]
  },
  {
   "cell_type": "markdown",
   "metadata": {
    "colab_type": "text",
    "id": "1E0Q3aoKUCRX"
   },
   "source": [
    "## Part 1 - Data Preprocessing"
   ]
  },
  {
   "cell_type": "markdown",
   "metadata": {
    "colab_type": "text",
    "id": "cKWAkFVGUU0Z"
   },
   "source": [
    "### Importing the dataset"
   ]
  },
  {
   "cell_type": "code",
   "execution_count": 3,
   "metadata": {},
   "outputs": [
    {
     "data": {
      "text/html": [
       "<div>\n",
       "<style scoped>\n",
       "    .dataframe tbody tr th:only-of-type {\n",
       "        vertical-align: middle;\n",
       "    }\n",
       "\n",
       "    .dataframe tbody tr th {\n",
       "        vertical-align: top;\n",
       "    }\n",
       "\n",
       "    .dataframe thead th {\n",
       "        text-align: right;\n",
       "    }\n",
       "</style>\n",
       "<table border=\"1\" class=\"dataframe\">\n",
       "  <thead>\n",
       "    <tr style=\"text-align: right;\">\n",
       "      <th></th>\n",
       "      <th>RowNumber</th>\n",
       "      <th>CustomerId</th>\n",
       "      <th>Surname</th>\n",
       "      <th>CreditScore</th>\n",
       "      <th>Geography</th>\n",
       "      <th>Gender</th>\n",
       "      <th>Age</th>\n",
       "      <th>Tenure</th>\n",
       "      <th>Balance</th>\n",
       "      <th>NumOfProducts</th>\n",
       "      <th>HasCrCard</th>\n",
       "      <th>IsActiveMember</th>\n",
       "      <th>EstimatedSalary</th>\n",
       "      <th>Exited</th>\n",
       "    </tr>\n",
       "  </thead>\n",
       "  <tbody>\n",
       "    <tr>\n",
       "      <th>0</th>\n",
       "      <td>1</td>\n",
       "      <td>15634602</td>\n",
       "      <td>Hargrave</td>\n",
       "      <td>619</td>\n",
       "      <td>France</td>\n",
       "      <td>Female</td>\n",
       "      <td>42</td>\n",
       "      <td>2</td>\n",
       "      <td>0.00</td>\n",
       "      <td>1</td>\n",
       "      <td>1</td>\n",
       "      <td>1</td>\n",
       "      <td>101348.88</td>\n",
       "      <td>1</td>\n",
       "    </tr>\n",
       "    <tr>\n",
       "      <th>1</th>\n",
       "      <td>2</td>\n",
       "      <td>15647311</td>\n",
       "      <td>Hill</td>\n",
       "      <td>608</td>\n",
       "      <td>Spain</td>\n",
       "      <td>Female</td>\n",
       "      <td>41</td>\n",
       "      <td>1</td>\n",
       "      <td>83807.86</td>\n",
       "      <td>1</td>\n",
       "      <td>0</td>\n",
       "      <td>1</td>\n",
       "      <td>112542.58</td>\n",
       "      <td>0</td>\n",
       "    </tr>\n",
       "    <tr>\n",
       "      <th>2</th>\n",
       "      <td>3</td>\n",
       "      <td>15619304</td>\n",
       "      <td>Onio</td>\n",
       "      <td>502</td>\n",
       "      <td>France</td>\n",
       "      <td>Female</td>\n",
       "      <td>42</td>\n",
       "      <td>8</td>\n",
       "      <td>159660.80</td>\n",
       "      <td>3</td>\n",
       "      <td>1</td>\n",
       "      <td>0</td>\n",
       "      <td>113931.57</td>\n",
       "      <td>1</td>\n",
       "    </tr>\n",
       "    <tr>\n",
       "      <th>3</th>\n",
       "      <td>4</td>\n",
       "      <td>15701354</td>\n",
       "      <td>Boni</td>\n",
       "      <td>699</td>\n",
       "      <td>France</td>\n",
       "      <td>Female</td>\n",
       "      <td>39</td>\n",
       "      <td>1</td>\n",
       "      <td>0.00</td>\n",
       "      <td>2</td>\n",
       "      <td>0</td>\n",
       "      <td>0</td>\n",
       "      <td>93826.63</td>\n",
       "      <td>0</td>\n",
       "    </tr>\n",
       "    <tr>\n",
       "      <th>4</th>\n",
       "      <td>5</td>\n",
       "      <td>15737888</td>\n",
       "      <td>Mitchell</td>\n",
       "      <td>850</td>\n",
       "      <td>Spain</td>\n",
       "      <td>Female</td>\n",
       "      <td>43</td>\n",
       "      <td>2</td>\n",
       "      <td>125510.82</td>\n",
       "      <td>1</td>\n",
       "      <td>1</td>\n",
       "      <td>1</td>\n",
       "      <td>79084.10</td>\n",
       "      <td>0</td>\n",
       "    </tr>\n",
       "  </tbody>\n",
       "</table>\n",
       "</div>"
      ],
      "text/plain": [
       "   RowNumber  CustomerId   Surname  CreditScore Geography  Gender  Age  \\\n",
       "0          1    15634602  Hargrave          619    France  Female   42   \n",
       "1          2    15647311      Hill          608     Spain  Female   41   \n",
       "2          3    15619304      Onio          502    France  Female   42   \n",
       "3          4    15701354      Boni          699    France  Female   39   \n",
       "4          5    15737888  Mitchell          850     Spain  Female   43   \n",
       "\n",
       "   Tenure    Balance  NumOfProducts  HasCrCard  IsActiveMember  \\\n",
       "0       2       0.00              1          1               1   \n",
       "1       1   83807.86              1          0               1   \n",
       "2       8  159660.80              3          1               0   \n",
       "3       1       0.00              2          0               0   \n",
       "4       2  125510.82              1          1               1   \n",
       "\n",
       "   EstimatedSalary  Exited  \n",
       "0        101348.88       1  \n",
       "1        112542.58       0  \n",
       "2        113931.57       1  \n",
       "3         93826.63       0  \n",
       "4         79084.10       0  "
      ]
     },
     "execution_count": 3,
     "metadata": {},
     "output_type": "execute_result"
    }
   ],
   "source": [
    "dataset = pd.read_csv('Churn_Modelling.csv')\n",
    "dataset.head()"
   ]
  },
  {
   "cell_type": "code",
   "execution_count": 4,
   "metadata": {},
   "outputs": [
    {
     "data": {
      "text/plain": [
       "France     5014\n",
       "Germany    2509\n",
       "Spain      2477\n",
       "Name: Geography, dtype: int64"
      ]
     },
     "execution_count": 4,
     "metadata": {},
     "output_type": "execute_result"
    }
   ],
   "source": [
    "dataset['Geography'].value_counts()"
   ]
  },
  {
   "cell_type": "code",
   "execution_count": 5,
   "metadata": {
    "colab": {},
    "colab_type": "code",
    "id": "MXUkhkMfU4wq"
   },
   "outputs": [],
   "source": [
    "X = dataset.iloc[:, 3:-1].values\n",
    "y = dataset.iloc[:, -1].values"
   ]
  },
  {
   "cell_type": "code",
   "execution_count": 6,
   "metadata": {
    "colab": {
     "base_uri": "https://localhost:8080/",
     "height": 137
    },
    "colab_type": "code",
    "id": "VYP9cQTWbzuI",
    "outputId": "797e7a64-9bac-436a-8c9c-94437e5e7587"
   },
   "outputs": [
    {
     "name": "stdout",
     "output_type": "stream",
     "text": [
      "[[619 'France' 'Female' ... 1 1 101348.88]\n",
      " [608 'Spain' 'Female' ... 0 1 112542.58]\n",
      " [502 'France' 'Female' ... 1 0 113931.57]\n",
      " ...\n",
      " [709 'France' 'Female' ... 0 1 42085.58]\n",
      " [772 'Germany' 'Male' ... 1 0 92888.52]\n",
      " [792 'France' 'Female' ... 1 0 38190.78]]\n"
     ]
    }
   ],
   "source": [
    "print(X)"
   ]
  },
  {
   "cell_type": "code",
   "execution_count": 7,
   "metadata": {
    "colab": {
     "base_uri": "https://localhost:8080/",
     "height": 34
    },
    "colab_type": "code",
    "id": "38vKGE6Nb2RR",
    "outputId": "a815e42a-e0dd-4cb5-ab97-b17ead98fbc3"
   },
   "outputs": [
    {
     "name": "stdout",
     "output_type": "stream",
     "text": [
      "[1 0 1 ... 1 1 0]\n"
     ]
    }
   ],
   "source": [
    "print(y)"
   ]
  },
  {
   "cell_type": "markdown",
   "metadata": {
    "colab_type": "text",
    "id": "N6bQ0UgSU-NJ"
   },
   "source": [
    "### Encoding categorical data"
   ]
  },
  {
   "cell_type": "markdown",
   "metadata": {
    "colab_type": "text",
    "id": "le5MJreAbW52"
   },
   "source": [
    "Label Encoding the \"Gender\" column"
   ]
  },
  {
   "cell_type": "code",
   "execution_count": 8,
   "metadata": {
    "colab": {},
    "colab_type": "code",
    "id": "PxVKWXxLbczC"
   },
   "outputs": [],
   "source": [
    "from sklearn.preprocessing import LabelEncoder\n",
    "le = LabelEncoder()\n",
    "X[:, 2] = le.fit_transform(X[:, 2])"
   ]
  },
  {
   "cell_type": "code",
   "execution_count": 32,
   "metadata": {
    "colab": {
     "base_uri": "https://localhost:8080/",
     "height": 137
    },
    "colab_type": "code",
    "id": "-M1KboxFb6OO",
    "outputId": "e2b8c7e8-0cbc-4cdf-f4eb-7f0853a00b88"
   },
   "outputs": [
    {
     "name": "stdout",
     "output_type": "stream",
     "text": [
      "[0.0 0.0 1.0 608 0 41 1 83807.86 1 0 1 112542.58]\n"
     ]
    }
   ],
   "source": [
    "print(X[1])"
   ]
  },
  {
   "cell_type": "markdown",
   "metadata": {
    "colab_type": "text",
    "id": "CUxGZezpbMcb"
   },
   "source": [
    "One Hot Encoding the \"Geography\" column"
   ]
  },
  {
   "cell_type": "code",
   "execution_count": 10,
   "metadata": {
    "colab": {},
    "colab_type": "code",
    "id": "AMXC8-KMVirw"
   },
   "outputs": [],
   "source": [
    "from sklearn.compose import ColumnTransformer\n",
    "from sklearn.preprocessing import OneHotEncoder\n",
    "ct = ColumnTransformer(transformers=[('encoder', OneHotEncoder(), [1])], remainder='passthrough')\n",
    "X = np.array(ct.fit_transform(X))"
   ]
  },
  {
   "cell_type": "code",
   "execution_count": 11,
   "metadata": {
    "colab": {
     "base_uri": "https://localhost:8080/",
     "height": 137
    },
    "colab_type": "code",
    "id": "ZcxwEon-b8nV",
    "outputId": "23a98af4-5e33-4b26-c27b-f06e3c5d2baf"
   },
   "outputs": [
    {
     "name": "stdout",
     "output_type": "stream",
     "text": [
      "[0.0 1.0 0.0 772 1 42 3 75075.31 2 1 0 92888.52]\n"
     ]
    }
   ],
   "source": [
    "print(X[-2])"
   ]
  },
  {
   "cell_type": "code",
   "execution_count": 12,
   "metadata": {},
   "outputs": [
    {
     "data": {
      "text/plain": [
       "array([[1.0, 0.0, 0.0, ..., 1, 1, 101348.88],\n",
       "       [0.0, 0.0, 1.0, ..., 0, 1, 112542.58],\n",
       "       [1.0, 0.0, 0.0, ..., 1, 0, 113931.57],\n",
       "       ...,\n",
       "       [1.0, 0.0, 0.0, ..., 0, 1, 42085.58],\n",
       "       [0.0, 1.0, 0.0, ..., 1, 0, 92888.52],\n",
       "       [1.0, 0.0, 0.0, ..., 1, 0, 38190.78]], dtype=object)"
      ]
     },
     "execution_count": 12,
     "metadata": {},
     "output_type": "execute_result"
    }
   ],
   "source": [
    "X"
   ]
  },
  {
   "cell_type": "markdown",
   "metadata": {
    "colab_type": "text",
    "id": "vHol938cW8zd"
   },
   "source": [
    "### Splitting the dataset into the Training set and Test set"
   ]
  },
  {
   "cell_type": "code",
   "execution_count": 12,
   "metadata": {
    "colab": {},
    "colab_type": "code",
    "id": "Z-TDt0Y_XEfc"
   },
   "outputs": [],
   "source": [
    "from sklearn.model_selection import train_test_split\n",
    "X_train, X_test, y_train, y_test = train_test_split(X, y, test_size = 0.2, random_state = 0)"
   ]
  },
  {
   "cell_type": "markdown",
   "metadata": {
    "colab_type": "text",
    "id": "RE_FcHyfV3TQ"
   },
   "source": [
    "### Feature Scaling"
   ]
  },
  {
   "cell_type": "code",
   "execution_count": 13,
   "metadata": {
    "colab": {},
    "colab_type": "code",
    "id": "ViCrE00rV8Sk"
   },
   "outputs": [],
   "source": [
    "from sklearn.preprocessing import StandardScaler\n",
    "sc = StandardScaler()\n",
    "X_train = sc.fit_transform(X_train)\n",
    "X_test = sc.fit_transform(X_test)"
   ]
  },
  {
   "cell_type": "code",
   "execution_count": 14,
   "metadata": {},
   "outputs": [
    {
     "data": {
      "text/plain": [
       "array([[-1.01460667, -0.5698444 ,  1.74309049, ...,  0.64259497,\n",
       "        -1.03227043,  1.10643166],\n",
       "       [-1.01460667,  1.75486502, -0.57369368, ...,  0.64259497,\n",
       "         0.9687384 , -0.74866447],\n",
       "       [ 0.98560362, -0.5698444 , -0.57369368, ...,  0.64259497,\n",
       "        -1.03227043,  1.48533467],\n",
       "       ...,\n",
       "       [ 0.98560362, -0.5698444 , -0.57369368, ...,  0.64259497,\n",
       "        -1.03227043,  1.41231994],\n",
       "       [-1.01460667, -0.5698444 ,  1.74309049, ...,  0.64259497,\n",
       "         0.9687384 ,  0.84432121],\n",
       "       [-1.01460667,  1.75486502, -0.57369368, ...,  0.64259497,\n",
       "        -1.03227043,  0.32472465]])"
      ]
     },
     "execution_count": 14,
     "metadata": {},
     "output_type": "execute_result"
    }
   ],
   "source": [
    "X_train"
   ]
  },
  {
   "cell_type": "markdown",
   "metadata": {
    "colab_type": "text",
    "id": "-zfEzkRVXIwF"
   },
   "source": [
    "## Part 2 - Building the ANN"
   ]
  },
  {
   "cell_type": "markdown",
   "metadata": {
    "colab_type": "text",
    "id": "KvdeScabXtlB"
   },
   "source": [
    "### Initializing the ANN"
   ]
  },
  {
   "cell_type": "code",
   "execution_count": 15,
   "metadata": {
    "colab": {},
    "colab_type": "code",
    "id": "3dtrScHxXQox"
   },
   "outputs": [],
   "source": [
    "model = tf.keras.models.Sequential()"
   ]
  },
  {
   "cell_type": "markdown",
   "metadata": {
    "colab_type": "text",
    "id": "rP6urV6SX7kS"
   },
   "source": [
    "### Adding the input layer and the first hidden layer"
   ]
  },
  {
   "cell_type": "code",
   "execution_count": 16,
   "metadata": {
    "colab": {},
    "colab_type": "code",
    "id": "bppGycBXYCQr"
   },
   "outputs": [],
   "source": [
    "model.add(tf.keras.layers.Dense(units=6, activation = 'relu'))"
   ]
  },
  {
   "cell_type": "markdown",
   "metadata": {
    "colab_type": "text",
    "id": "BELWAc_8YJze"
   },
   "source": [
    "### Adding the second hidden layer"
   ]
  },
  {
   "cell_type": "code",
   "execution_count": 17,
   "metadata": {
    "colab": {},
    "colab_type": "code",
    "id": "JneR0u0sYRTd"
   },
   "outputs": [],
   "source": [
    "model.add(tf.keras.layers.Dense(units=6, activation = 'relu'))"
   ]
  },
  {
   "cell_type": "markdown",
   "metadata": {
    "colab_type": "text",
    "id": "OyNEe6RXYcU4"
   },
   "source": [
    "### Adding the output layer"
   ]
  },
  {
   "cell_type": "code",
   "execution_count": 20,
   "metadata": {
    "colab": {},
    "colab_type": "code",
    "id": "Cn3x41RBYfvY"
   },
   "outputs": [],
   "source": [
    "model.add(tf.keras.layers.Dense(units=1, activation = 'sigmoid'))"
   ]
  },
  {
   "cell_type": "markdown",
   "metadata": {
    "colab_type": "text",
    "id": "JT4u2S1_Y4WG"
   },
   "source": [
    "## Part 3 - Training the ANN"
   ]
  },
  {
   "cell_type": "markdown",
   "metadata": {
    "colab_type": "text",
    "id": "8GWlJChhY_ZI"
   },
   "source": [
    "### Compiling the ANN"
   ]
  },
  {
   "cell_type": "code",
   "execution_count": 21,
   "metadata": {
    "colab": {},
    "colab_type": "code",
    "id": "fG3RrwDXZEaS"
   },
   "outputs": [],
   "source": [
    "model.compile(optimizer='adam', loss = 'binary_crossentropy', metrics = ['accuracy'])"
   ]
  },
  {
   "cell_type": "markdown",
   "metadata": {
    "colab_type": "text",
    "id": "0QR_G5u7ZLSM"
   },
   "source": [
    "### Training the ANN on the Training set"
   ]
  },
  {
   "cell_type": "code",
   "execution_count": 22,
   "metadata": {
    "colab": {
     "base_uri": "https://localhost:8080/",
     "height": 1000
    },
    "colab_type": "code",
    "collapsed": true,
    "id": "nHZ-LKv_ZRb3",
    "outputId": "718cc4b0-b5aa-40f0-9b20-d3d31730a531"
   },
   "outputs": [
    {
     "name": "stdout",
     "output_type": "stream",
     "text": [
      "Epoch 1/100\n",
      "223/223 [==============================] - 1s 2ms/step - loss: 1.0805 - accuracy: 0.2183\n",
      "Epoch 2/100\n",
      "223/223 [==============================] - 0s 1ms/step - loss: 0.6209 - accuracy: 0.7426\n",
      "Epoch 3/100\n",
      "223/223 [==============================] - 0s 1ms/step - loss: 0.5483 - accuracy: 0.7960\n",
      "Epoch 4/100\n",
      "223/223 [==============================] - 0s 1ms/step - loss: 0.5223 - accuracy: 0.7960\n",
      "Epoch 5/100\n",
      "223/223 [==============================] - 0s 1ms/step - loss: 0.5070 - accuracy: 0.7960\n",
      "Epoch 6/100\n",
      "223/223 [==============================] - 0s 1ms/step - loss: 0.4915 - accuracy: 0.7960\n",
      "Epoch 7/100\n",
      "223/223 [==============================] - 0s 1ms/step - loss: 0.4728 - accuracy: 0.7960\n",
      "Epoch 8/100\n",
      "223/223 [==============================] - 0s 1ms/step - loss: 0.4559 - accuracy: 0.7990\n",
      "Epoch 9/100\n",
      "223/223 [==============================] - 0s 970us/step - loss: 0.4434 - accuracy: 0.8213\n",
      "Epoch 10/100\n",
      "223/223 [==============================] - 0s 1ms/step - loss: 0.4345 - accuracy: 0.8239\n",
      "Epoch 11/100\n",
      "223/223 [==============================] - 0s 952us/step - loss: 0.4281 - accuracy: 0.8266\n",
      "Epoch 12/100\n",
      "223/223 [==============================] - 0s 961us/step - loss: 0.4229 - accuracy: 0.8301\n",
      "Epoch 13/100\n",
      "223/223 [==============================] - 0s 984us/step - loss: 0.4189 - accuracy: 0.8320\n",
      "Epoch 14/100\n",
      "223/223 [==============================] - 0s 975us/step - loss: 0.4156 - accuracy: 0.8334\n",
      "Epoch 15/100\n",
      "223/223 [==============================] - 0s 1ms/step - loss: 0.4127 - accuracy: 0.8334\n",
      "Epoch 16/100\n",
      "223/223 [==============================] - 0s 1ms/step - loss: 0.4109 - accuracy: 0.8346\n",
      "Epoch 17/100\n",
      "223/223 [==============================] - 0s 1ms/step - loss: 0.4090 - accuracy: 0.8328\n",
      "Epoch 18/100\n",
      "223/223 [==============================] - 0s 1ms/step - loss: 0.4077 - accuracy: 0.8345\n",
      "Epoch 19/100\n",
      "223/223 [==============================] - 0s 1ms/step - loss: 0.4067 - accuracy: 0.8336\n",
      "Epoch 20/100\n",
      "223/223 [==============================] - 0s 1ms/step - loss: 0.4057 - accuracy: 0.8334\n",
      "Epoch 21/100\n",
      "223/223 [==============================] - 0s 1ms/step - loss: 0.4050 - accuracy: 0.8330\n",
      "Epoch 22/100\n",
      "223/223 [==============================] - 0s 1ms/step - loss: 0.4040 - accuracy: 0.8359\n",
      "Epoch 23/100\n",
      "223/223 [==============================] - 0s 1ms/step - loss: 0.4038 - accuracy: 0.8324\n",
      "Epoch 24/100\n",
      "223/223 [==============================] - 0s 1ms/step - loss: 0.4031 - accuracy: 0.8334\n",
      "Epoch 25/100\n",
      "223/223 [==============================] - 0s 1ms/step - loss: 0.4027 - accuracy: 0.8341\n",
      "Epoch 26/100\n",
      "223/223 [==============================] - 0s 1ms/step - loss: 0.4016 - accuracy: 0.8341\n",
      "Epoch 27/100\n",
      "223/223 [==============================] - 0s 1ms/step - loss: 0.4012 - accuracy: 0.8350\n",
      "Epoch 28/100\n",
      "223/223 [==============================] - 0s 1ms/step - loss: 0.4006 - accuracy: 0.8347\n",
      "Epoch 29/100\n",
      "223/223 [==============================] - 0s 1ms/step - loss: 0.4002 - accuracy: 0.8341\n",
      "Epoch 30/100\n",
      "223/223 [==============================] - 0s 1ms/step - loss: 0.3993 - accuracy: 0.8357\n",
      "Epoch 31/100\n",
      "223/223 [==============================] - 0s 984us/step - loss: 0.3990 - accuracy: 0.8371\n",
      "Epoch 32/100\n",
      "223/223 [==============================] - 0s 1ms/step - loss: 0.3990 - accuracy: 0.8357\n",
      "Epoch 33/100\n",
      "223/223 [==============================] - 0s 1ms/step - loss: 0.3982 - accuracy: 0.8369\n",
      "Epoch 34/100\n",
      "223/223 [==============================] - 0s 1ms/step - loss: 0.3977 - accuracy: 0.8375\n",
      "Epoch 35/100\n",
      "223/223 [==============================] - 0s 1ms/step - loss: 0.3974 - accuracy: 0.8371\n",
      "Epoch 36/100\n",
      "223/223 [==============================] - 0s 1ms/step - loss: 0.3968 - accuracy: 0.8378\n",
      "Epoch 37/100\n",
      "223/223 [==============================] - 0s 1ms/step - loss: 0.3964 - accuracy: 0.8386\n",
      "Epoch 38/100\n",
      "223/223 [==============================] - 0s 1ms/step - loss: 0.3963 - accuracy: 0.8382\n",
      "Epoch 39/100\n",
      "223/223 [==============================] - 0s 1ms/step - loss: 0.3958 - accuracy: 0.8369\n",
      "Epoch 40/100\n",
      "223/223 [==============================] - 0s 1ms/step - loss: 0.3953 - accuracy: 0.8381\n",
      "Epoch 41/100\n",
      "223/223 [==============================] - 0s 1ms/step - loss: 0.3949 - accuracy: 0.8390\n",
      "Epoch 42/100\n",
      "223/223 [==============================] - 0s 1ms/step - loss: 0.3949 - accuracy: 0.8369\n",
      "Epoch 43/100\n",
      "223/223 [==============================] - 0s 1ms/step - loss: 0.3943 - accuracy: 0.8382\n",
      "Epoch 44/100\n",
      "223/223 [==============================] - 0s 1ms/step - loss: 0.3939 - accuracy: 0.8379\n",
      "Epoch 45/100\n",
      "223/223 [==============================] - 0s 1ms/step - loss: 0.3936 - accuracy: 0.8397\n",
      "Epoch 46/100\n",
      "223/223 [==============================] - 0s 2ms/step - loss: 0.3935 - accuracy: 0.8389\n",
      "Epoch 47/100\n",
      "223/223 [==============================] - 0s 1ms/step - loss: 0.3930 - accuracy: 0.8405\n",
      "Epoch 48/100\n",
      "223/223 [==============================] - ETA: 0s - loss: 0.3865 - accuracy: 0.84 - 0s 2ms/step - loss: 0.3932 - accuracy: 0.8379\n",
      "Epoch 49/100\n",
      "223/223 [==============================] - 0s 1ms/step - loss: 0.3928 - accuracy: 0.8390\n",
      "Epoch 50/100\n",
      "223/223 [==============================] - 0s 2ms/step - loss: 0.3929 - accuracy: 0.8393\n",
      "Epoch 51/100\n",
      "223/223 [==============================] - 0s 1ms/step - loss: 0.3924 - accuracy: 0.8394\n",
      "Epoch 52/100\n",
      "223/223 [==============================] - 0s 1ms/step - loss: 0.3924 - accuracy: 0.8390\n",
      "Epoch 53/100\n",
      "223/223 [==============================] - 0s 1ms/step - loss: 0.3921 - accuracy: 0.8384\n",
      "Epoch 54/100\n",
      "223/223 [==============================] - 0s 1ms/step - loss: 0.3921 - accuracy: 0.8389\n",
      "Epoch 55/100\n",
      "223/223 [==============================] - 0s 1ms/step - loss: 0.3922 - accuracy: 0.8375\n",
      "Epoch 56/100\n",
      "223/223 [==============================] - 0s 1ms/step - loss: 0.3918 - accuracy: 0.8396\n",
      "Epoch 57/100\n",
      "223/223 [==============================] - 0s 993us/step - loss: 0.3919 - accuracy: 0.8384\n",
      "Epoch 58/100\n",
      "223/223 [==============================] - 0s 1ms/step - loss: 0.3917 - accuracy: 0.8396\n",
      "Epoch 59/100\n",
      "223/223 [==============================] - 0s 1ms/step - loss: 0.3912 - accuracy: 0.8389\n",
      "Epoch 60/100\n",
      "223/223 [==============================] - 0s 1ms/step - loss: 0.3913 - accuracy: 0.8379\n",
      "Epoch 61/100\n",
      "223/223 [==============================] - 0s 988us/step - loss: 0.3913 - accuracy: 0.8391\n",
      "Epoch 62/100\n",
      "223/223 [==============================] - 0s 1ms/step - loss: 0.3915 - accuracy: 0.8386\n",
      "Epoch 63/100\n",
      "223/223 [==============================] - 0s 1ms/step - loss: 0.3909 - accuracy: 0.8405\n",
      "Epoch 64/100\n",
      "223/223 [==============================] - 0s 957us/step - loss: 0.3908 - accuracy: 0.8391\n",
      "Epoch 65/100\n",
      "223/223 [==============================] - 0s 1ms/step - loss: 0.3908 - accuracy: 0.8388\n",
      "Epoch 66/100\n",
      "223/223 [==============================] - 0s 1ms/step - loss: 0.3908 - accuracy: 0.8394\n",
      "Epoch 67/100\n",
      "223/223 [==============================] - 0s 1ms/step - loss: 0.3906 - accuracy: 0.8386\n",
      "Epoch 68/100\n",
      "223/223 [==============================] - 0s 1ms/step - loss: 0.3905 - accuracy: 0.8388\n",
      "Epoch 69/100\n",
      "223/223 [==============================] - 0s 1ms/step - loss: 0.3901 - accuracy: 0.8389\n",
      "Epoch 70/100\n",
      "223/223 [==============================] - 0s 1ms/step - loss: 0.3907 - accuracy: 0.8384\n",
      "Epoch 71/100\n",
      "223/223 [==============================] - 0s 1ms/step - loss: 0.3903 - accuracy: 0.8397\n",
      "Epoch 72/100\n",
      "223/223 [==============================] - 0s 984us/step - loss: 0.3901 - accuracy: 0.8381\n",
      "Epoch 73/100\n",
      "223/223 [==============================] - 0s 1ms/step - loss: 0.3902 - accuracy: 0.8394\n",
      "Epoch 74/100\n",
      "223/223 [==============================] - 0s 1ms/step - loss: 0.3898 - accuracy: 0.8396\n",
      "Epoch 75/100\n",
      "223/223 [==============================] - 0s 993us/step - loss: 0.3897 - accuracy: 0.8395\n",
      "Epoch 76/100\n",
      "223/223 [==============================] - 0s 1ms/step - loss: 0.3896 - accuracy: 0.8411\n",
      "Epoch 77/100\n",
      "223/223 [==============================] - 0s 997us/step - loss: 0.3894 - accuracy: 0.8399\n",
      "Epoch 78/100\n",
      "223/223 [==============================] - 0s 1ms/step - loss: 0.3893 - accuracy: 0.8382\n",
      "Epoch 79/100\n",
      "223/223 [==============================] - 0s 1ms/step - loss: 0.3893 - accuracy: 0.8418\n",
      "Epoch 80/100\n"
     ]
    },
    {
     "name": "stdout",
     "output_type": "stream",
     "text": [
      "223/223 [==============================] - 0s 1ms/step - loss: 0.3897 - accuracy: 0.8399\n",
      "Epoch 81/100\n",
      "223/223 [==============================] - 0s 1ms/step - loss: 0.3894 - accuracy: 0.8415\n",
      "Epoch 82/100\n",
      "223/223 [==============================] - 0s 1ms/step - loss: 0.3894 - accuracy: 0.8411\n",
      "Epoch 83/100\n",
      "223/223 [==============================] - 0s 1ms/step - loss: 0.3895 - accuracy: 0.8394\n",
      "Epoch 84/100\n",
      "223/223 [==============================] - 0s 1ms/step - loss: 0.3894 - accuracy: 0.8407\n",
      "Epoch 85/100\n",
      "223/223 [==============================] - 0s 1ms/step - loss: 0.3891 - accuracy: 0.8403\n",
      "Epoch 86/100\n",
      "223/223 [==============================] - 0s 1ms/step - loss: 0.3891 - accuracy: 0.8405\n",
      "Epoch 87/100\n",
      "223/223 [==============================] - 0s 1ms/step - loss: 0.3890 - accuracy: 0.8411\n",
      "Epoch 88/100\n",
      "223/223 [==============================] - 0s 1ms/step - loss: 0.3893 - accuracy: 0.8409\n",
      "Epoch 89/100\n",
      "223/223 [==============================] - 0s 1ms/step - loss: 0.3887 - accuracy: 0.8405\n",
      "Epoch 90/100\n",
      "223/223 [==============================] - 0s 1ms/step - loss: 0.3891 - accuracy: 0.8404\n",
      "Epoch 91/100\n",
      "223/223 [==============================] - 0s 1ms/step - loss: 0.3891 - accuracy: 0.8407\n",
      "Epoch 92/100\n",
      "223/223 [==============================] - 0s 1ms/step - loss: 0.3889 - accuracy: 0.8401\n",
      "Epoch 93/100\n",
      "223/223 [==============================] - 0s 955us/step - loss: 0.3886 - accuracy: 0.8418\n",
      "Epoch 94/100\n",
      "223/223 [==============================] - 0s 948us/step - loss: 0.3886 - accuracy: 0.8415\n",
      "Epoch 95/100\n",
      "223/223 [==============================] - 0s 948us/step - loss: 0.3887 - accuracy: 0.8421\n",
      "Epoch 96/100\n",
      "223/223 [==============================] - 0s 1ms/step - loss: 0.3883 - accuracy: 0.8411\n",
      "Epoch 97/100\n",
      "223/223 [==============================] - 0s 1ms/step - loss: 0.3884 - accuracy: 0.8406\n",
      "Epoch 98/100\n",
      "223/223 [==============================] - 0s 1ms/step - loss: 0.3882 - accuracy: 0.8396\n",
      "Epoch 99/100\n",
      "223/223 [==============================] - 0s 1ms/step - loss: 0.3884 - accuracy: 0.8403\n",
      "Epoch 100/100\n",
      "223/223 [==============================] - 0s 1ms/step - loss: 0.3883 - accuracy: 0.8413\n"
     ]
    },
    {
     "data": {
      "text/plain": [
       "<tensorflow.python.keras.callbacks.History at 0x2078de91a00>"
      ]
     },
     "execution_count": 22,
     "metadata": {},
     "output_type": "execute_result"
    }
   ],
   "source": [
    "model.fit(X_train, y_train, batch_size = 36, epochs = 100)"
   ]
  },
  {
   "cell_type": "markdown",
   "metadata": {
    "colab_type": "text",
    "id": "tJj5k2MxZga3"
   },
   "source": [
    "## Part 4 - Making the predictions and evaluating the model"
   ]
  },
  {
   "cell_type": "markdown",
   "metadata": {
    "colab_type": "text",
    "id": "84QFoqGYeXHL"
   },
   "source": [
    "### Predicting the result of a single observation"
   ]
  },
  {
   "cell_type": "markdown",
   "metadata": {
    "colab_type": "text",
    "id": "CGRo3eacgDdC"
   },
   "source": [
    "**Homework**\n",
    "\n",
    "Use our ANN model to predict if the customer with the following informations will leave the bank: \n",
    "\n",
    "Geography: France\n",
    "\n",
    "Credit Score: 600\n",
    "\n",
    "Gender: Male\n",
    "\n",
    "Age: 40 years old\n",
    "\n",
    "Tenure: 3 years\n",
    "\n",
    "Balance: \\$ 60000\n",
    "\n",
    "Number of Products: 2\n",
    "\n",
    "Does this customer have a credit card ? Yes\n",
    "\n",
    "Is this customer an Active Member: Yes\n",
    "\n",
    "Estimated Salary: \\$ 50000\n",
    "\n",
    "So, should we say goodbye to that customer ?"
   ]
  },
  {
   "cell_type": "markdown",
   "metadata": {
    "colab_type": "text",
    "id": "ZhU1LTgPg-kH"
   },
   "source": [
    "**Solution**"
   ]
  },
  {
   "cell_type": "code",
   "execution_count": 35,
   "metadata": {
    "colab": {
     "base_uri": "https://localhost:8080/",
     "height": 34
    },
    "colab_type": "code",
    "id": "2d8IoCCkeWGL",
    "outputId": "957f3970-e197-4c3b-a150-7f69dc567f5d"
   },
   "outputs": [
    {
     "data": {
      "text/plain": [
       "array([[0.16445732],\n",
       "       [0.23552218],\n",
       "       [0.09564131],\n",
       "       [0.0809246 ],\n",
       "       [0.12946355]], dtype=float32)"
      ]
     },
     "execution_count": 35,
     "metadata": {},
     "output_type": "execute_result"
    }
   ],
   "source": [
    "y_pred = model.predict(X_test)\n",
    "y_pred[:5]"
   ]
  },
  {
   "cell_type": "code",
   "execution_count": 29,
   "metadata": {},
   "outputs": [],
   "source": [
    "y_predict = []\n",
    "for i in y_pred:\n",
    "    if i>0.5:\n",
    "        y_predict.append(1)\n",
    "    else:\n",
    "        y_predict.append(0)"
   ]
  },
  {
   "cell_type": "code",
   "execution_count": 30,
   "metadata": {},
   "outputs": [
    {
     "data": {
      "text/plain": [
       "[0, 0, 0, 0, 0, 1, 0, 0, 0, 1]"
      ]
     },
     "execution_count": 30,
     "metadata": {},
     "output_type": "execute_result"
    }
   ],
   "source": [
    "y_predict[:10]"
   ]
  },
  {
   "cell_type": "code",
   "execution_count": 31,
   "metadata": {},
   "outputs": [
    {
     "data": {
      "text/plain": [
       "array([0, 1, 0, 0, 0, 1, 0, 0, 1, 1], dtype=int64)"
      ]
     },
     "execution_count": 31,
     "metadata": {},
     "output_type": "execute_result"
    }
   ],
   "source": [
    "y_test[:10]"
   ]
  },
  {
   "cell_type": "markdown",
   "metadata": {
    "colab_type": "text",
    "id": "wGjx94g2n7OV"
   },
   "source": [
    "Therefore, our ANN model predicts that this customer stays in the bank!\n",
    "\n",
    "**Important note 1:** Notice that the values of the features were all input in a double pair of square brackets. That's because the \"predict\" method always expects a 2D array as the format of its inputs. And putting our values into a double pair of square brackets makes the input exactly a 2D array.\n",
    "\n",
    "**Important note 2:** Notice also that the \"France\" country was not input as a string in the last column but as \"1, 0, 0\" in the first three columns. That's because of course the predict method expects the one-hot-encoded values of the state, and as we see in the first row of the matrix of features X, \"France\" was encoded as \"1, 0, 0\". And be careful to include these values in the first three columns, because the dummy variables are always created in the first columns."
   ]
  },
  {
   "cell_type": "code",
   "execution_count": 33,
   "metadata": {},
   "outputs": [],
   "source": [
    "new = model.predict([[1,0,0,600,1,40,3,60000,2,1,1,50000]])"
   ]
  },
  {
   "cell_type": "code",
   "execution_count": 34,
   "metadata": {},
   "outputs": [
    {
     "data": {
      "text/plain": [
       "array([[0.22224277]], dtype=float32)"
      ]
     },
     "execution_count": 34,
     "metadata": {},
     "output_type": "execute_result"
    }
   ],
   "source": [
    "new"
   ]
  },
  {
   "cell_type": "code",
   "execution_count": null,
   "metadata": {},
   "outputs": [],
   "source": []
  }
 ],
 "metadata": {
  "colab": {
   "collapsed_sections": [],
   "name": "artificial_neural_network.ipynb",
   "provenance": [],
   "toc_visible": true
  },
  "kernelspec": {
   "display_name": "Python 3",
   "language": "python",
   "name": "python3"
  },
  "language_info": {
   "codemirror_mode": {
    "name": "ipython",
    "version": 3
   },
   "file_extension": ".py",
   "mimetype": "text/x-python",
   "name": "python",
   "nbconvert_exporter": "python",
   "pygments_lexer": "ipython3",
   "version": "3.8.8"
  }
 },
 "nbformat": 4,
 "nbformat_minor": 1
}
