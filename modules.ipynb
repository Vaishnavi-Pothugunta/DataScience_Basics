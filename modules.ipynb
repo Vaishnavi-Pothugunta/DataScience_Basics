{
 "cells": [
  {
   "cell_type": "code",
   "execution_count": 1,
   "id": "a37df3c8",
   "metadata": {},
   "outputs": [],
   "source": [
    "import functions"
   ]
  },
  {
   "cell_type": "code",
   "execution_count": 2,
   "id": "515bd1e4",
   "metadata": {},
   "outputs": [],
   "source": [
    "a=10\n",
    "b=89"
   ]
  },
  {
   "cell_type": "code",
   "execution_count": 3,
   "id": "efbe3849",
   "metadata": {},
   "outputs": [
    {
     "data": {
      "text/plain": [
       "890"
      ]
     },
     "execution_count": 3,
     "metadata": {},
     "output_type": "execute_result"
    }
   ],
   "source": [
    "functions.mul(a,b)"
   ]
  },
  {
   "cell_type": "code",
   "execution_count": 4,
   "id": "bc6f60c1",
   "metadata": {},
   "outputs": [],
   "source": [
    "from functions import add\n"
   ]
  },
  {
   "cell_type": "code",
   "execution_count": 5,
   "id": "5e20cf98",
   "metadata": {},
   "outputs": [
    {
     "data": {
      "text/plain": [
       "99"
      ]
     },
     "execution_count": 5,
     "metadata": {},
     "output_type": "execute_result"
    }
   ],
   "source": [
    "add(a,b)"
   ]
  },
  {
   "cell_type": "code",
   "execution_count": 6,
   "id": "b18900e6",
   "metadata": {},
   "outputs": [],
   "source": [
    "from functions import *"
   ]
  },
  {
   "cell_type": "code",
   "execution_count": 7,
   "id": "72bf9333",
   "metadata": {},
   "outputs": [
    {
     "data": {
      "text/plain": [
       "8.9"
      ]
     },
     "execution_count": 7,
     "metadata": {},
     "output_type": "execute_result"
    }
   ],
   "source": [
    "div(b,a)"
   ]
  },
  {
   "cell_type": "code",
   "execution_count": null,
   "id": "1d1ee529",
   "metadata": {},
   "outputs": [],
   "source": []
  }
 ],
 "metadata": {
  "kernelspec": {
   "display_name": "Python 3",
   "language": "python",
   "name": "python3"
  },
  "language_info": {
   "codemirror_mode": {
    "name": "ipython",
    "version": 3
   },
   "file_extension": ".py",
   "mimetype": "text/x-python",
   "name": "python",
   "nbconvert_exporter": "python",
   "pygments_lexer": "ipython3",
   "version": "3.8.8"
  }
 },
 "nbformat": 4,
 "nbformat_minor": 5
}
