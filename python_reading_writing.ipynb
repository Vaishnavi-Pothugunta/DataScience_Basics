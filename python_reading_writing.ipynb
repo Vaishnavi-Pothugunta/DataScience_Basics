{
 "cells": [
  {
   "cell_type": "markdown",
   "metadata": {},
   "source": [
    "# Working with Data Files\n",
    "\n",
    "In Python, we must open files before we can use them and close them when we are done with them. As you might expect, once a file is opened it becomes a Python object just like all other data. Table 1 shows the functions and methods that can be used to open and close files.\n",
    "\n",
    "* Method Name\n",
    "\n",
    "* open\n",
    "\n",
    "#### open(filename,'r')\n",
    "\n",
    "Open a file called filename and use it for reading. This will return a reference to a file object.\n",
    "\n",
    "* write\n",
    "\n",
    "#### open(filename,'w')\n",
    "\n",
    "Open a file called filename and use it for writing. This will also return a reference to a file object.\n",
    "\n",
    "close\n",
    "\n",
    "filevariable.close()\n",
    "\n",
    "File use is complete."
   ]
  },
  {
   "cell_type": "markdown",
   "metadata": {},
   "source": [
    "# Reading a File\n",
    "As an example, suppose we have a text file called olympics.txt that contains the data representing about olympians across different years. The contents of the file are shown at the bottom of the page.\n",
    "\n",
    "To open this file, we would call the open function. The variable, fileref, now holds a reference to the file object returned by open. When we are finished with the file, we can close it by using the close method. After the file is closed any further attempts to use fileref will result in an error.\n",
    "\n"
   ]
  },
  {
   "cell_type": "code",
   "execution_count": 2,
   "metadata": {},
   "outputs": [
    {
     "name": "stdout",
     "output_type": "stream",
     "text": [
      "Name,Sex,Age,Team,Event,Medal\n",
      "A Dijiang,M,24,China\n"
     ]
    }
   ],
   "source": [
    "file = open('olympics.txt','r')\n",
    "data = file.read()\n",
    "print(data[:50])\n",
    "file.close()"
   ]
  },
  {
   "cell_type": "code",
   "execution_count": 2,
   "metadata": {},
   "outputs": [
    {
     "name": "stdout",
     "output_type": "stream",
     "text": [
      "Name,Sex,Age,Team,Event,Medal\n",
      "A Dijiang,M,24,China,Basketball,NA\n",
      "A Lamusi,M,23,China,Judo,NA\n",
      "Gunnar \n"
     ]
    }
   ],
   "source": [
    "fileref = open(\"olympics.txt\", \"r\")\n",
    "file = fileref.read()\n",
    "print(file[:100])\n",
    "## other code here that refers to variable fileref\n",
    "fileref.close()"
   ]
  },
  {
   "cell_type": "code",
   "execution_count": 4,
   "metadata": {},
   "outputs": [
    {
     "name": "stdout",
     "output_type": "stream",
     "text": [
      "['Name,Sex,Age,Team,Event,Medal\\n', 'A Dijiang,M,24,China,Basketball,NA\\n', 'A Lamusi,M,23,China,Judo,NA\\n', 'Gunnar Nielsen Aaby,M,24,Denmark,Football,NA\\n', 'Edgar Lindenau Aabye,M,34,Denmark/Sweden,Tug-Of-War,Gold\\n']\n"
     ]
    }
   ],
   "source": [
    "fileref = open(\"olympics.txt\", \"r\")\n",
    "## other code here that refers to variable fileref\n",
    "data = fileref.readlines()\n",
    "print(data[:5])\n",
    "fileref.close()"
   ]
  },
  {
   "cell_type": "markdown",
   "metadata": {},
   "source": [
    "# Iterating over lines in a file\n",
    "We will now use this file as input in a program that will do some data processing. In the program, we will examine each line of the file and print it with some additional text. Because readlines() returns a list of lines of text, we can use the for loop to iterate through each line of the file.\n",
    "\n",
    "A line of a file is defined to be a sequence of characters up to and including a special character called the newline character. If you evaluate a string that contains a newline character you will see the character represented as \\n. If you print a string that contains a newline you will not see the \\n, you will just see its effects (a carriage return).\n",
    "\n",
    "As the for loop iterates through each line of the file the loop variable will contain the current line of the file as a string of characters. The general pattern for processing each line of a text file is as follows:\n",
    "\n",
    "for line in myFile.readlines():\n",
    "    statement1\n",
    "    statement2\n",
    "    ...\n",
    "To process all of our olypmics data, we will use a for loop to iterate over the lines of the file. Using the split method, we can break each line into a list containing all the fields of interest about the athlete. We can then take the values corresponding to name, team and event to construct a simple sentence.\n",
    "\n"
   ]
  },
  {
   "cell_type": "code",
   "execution_count": 4,
   "metadata": {},
   "outputs": [
    {
     "name": "stdout",
     "output_type": "stream",
     "text": [
      "Name,Sex,Age,Team,Event,Medal\n",
      "A Dijiang,M,24,China,Basketball,NA\n",
      "A Lamusi,M,23,China,Judo,NA\n",
      "Gunnar Nielsen Aaby,M,24,Denmark,Football,NA\n",
      "Edgar Lindenau Aabye,M,34,Denmark/Sweden,Tug-Of-War,Gold\n",
      "Christine Jacoba Aaftink,F,21,Netherlands,Speed Skating,NA\n",
      "Christine Jacoba Aaftink,F,21,Netherlands,Speed Skating,NA\n",
      "Christine Jacoba Aaftink,F,25,Netherlands,Speed Skating,NA\n",
      "Christine Jacoba Aaftink,F,25,Netherlands,Speed Skating,NA\n",
      "Christine Jacoba Aaftink,F,27,Netherlands,Speed Skating,NA\n",
      "Christine Jacoba Aaftink,F,27,Netherlands,Speed Skating,NA\n",
      "Per Knut Aaland,M,31,United States,Cross Country Skiing,NA\n",
      "Per Knut Aaland,M,31,United States,Cross Country Skiing,NA\n",
      "Per Knut Aaland,M,31,United States,Cross Country Skiing,NA\n",
      "Per Knut Aaland,M,31,United States,Cross Country Skiing,NA\n",
      "Per Knut Aaland,M,33,United States,Cross Country Skiing,NA\n",
      "Per Knut Aaland,M,33,United States,Cross Country Skiing,NA\n",
      "Per Knut Aaland,M,33,United States,Cross Country Skiing,NA\n",
      "Per Knut Aaland,M,33,United States,Cross Country Skiing,NA\n",
      "John Aalberg,M,31,United States,Cross Country Skiing,NA\n",
      "John Aalberg,M,31,United States,Cross Country Skiing,NA\n",
      "John Aalberg,M,31,United States,Cross Country Skiing,NA\n",
      "John Aalberg,M,31,United States,Cross Country Skiing,NA\n",
      "John Aalberg,M,33,United States,Cross Country Skiing,NA\n",
      "John Aalberg,M,33,United States,Cross Country Skiing,NA\n",
      "John Aalberg,M,33,United States,Cross Country Skiing,NA\n",
      "John Aalberg,M,33,United States,Cross Country Skiing,NA\n",
      "\"Cornelia \"\"Cor\"\" Aalten (-Strannood)\",F,18,Netherlands,Athletics,NA\n",
      "\"Cornelia \"\"Cor\"\" Aalten (-Strannood)\",F,18,Netherlands,Athletics,NA\n",
      "Antti Sami Aalto,M,26,Finland,Ice Hockey,NA\n",
      "\"Einar Ferdinand \"\"Einari\"\" Aalto\",M,26,Finland,Swimming,NA\n",
      "Jorma Ilmari Aalto,M,22,Finland,Cross Country Skiing,NA\n",
      "Jyri Tapani Aalto,M,31,Finland,Badminton,NA\n",
      "Minna Maarit Aalto,F,30,Finland,Sailing,NA\n",
      "Minna Maarit Aalto,F,34,Finland,Sailing,NA\n",
      "Pirjo Hannele Aalto (Mattila-),F,32,Finland,Biathlon,NA\n",
      "Arvo Ossian Aaltonen,M,22,Finland,Swimming,NA\n",
      "Arvo Ossian Aaltonen,M,22,Finland,Swimming,NA\n",
      "Arvo Ossian Aaltonen,M,30,Finland,Swimming,Bronze\n",
      "Arvo Ossian Aaltonen,M,30,Finland,Swimming,Bronze\n",
      "Arvo Ossian Aaltonen,M,34,Finland,Swimming,NA\n",
      "Juhamatti Tapio Aaltonen,M,28,Finland,Ice Hockey,Bronze\n",
      "Paavo Johannes Aaltonen,M,28,Finland,Gymnastics,Bronze\n",
      "Paavo Johannes Aaltonen,M,28,Finland,Gymnastics,Gold\n",
      "Paavo Johannes Aaltonen,M,28,Finland,Gymnastics,NA\n",
      "Paavo Johannes Aaltonen,M,28,Finland,Gymnastics,Gold\n",
      "Paavo Johannes Aaltonen,M,28,Finland,Gymnastics,NA\n",
      "Paavo Johannes Aaltonen,M,28,Finland,Gymnastics,NA\n",
      "Paavo Johannes Aaltonen,M,28,Finland,Gymnastics,NA\n",
      "Paavo Johannes Aaltonen,M,28,Finland,Gymnastics,Gold\n",
      "Paavo Johannes Aaltonen,M,32,Finland,Gymnastics,NA\n",
      "Paavo Johannes Aaltonen,M,32,Finland,Gymnastics,Bronze\n",
      "Paavo Johannes Aaltonen,M,32,Finland,Gymnastics,NA\n",
      "Paavo Johannes Aaltonen,M,32,Finland,Gymnastics,NA\n",
      "Paavo Johannes Aaltonen,M,32,Finland,Gymnastics,NA\n",
      "Paavo Johannes Aaltonen,M,32,Finland,Gymnastics,NA\n",
      "Paavo Johannes Aaltonen,M,32,Finland,Gymnastics,NA\n",
      "Paavo Johannes Aaltonen,M,32,Finland,Gymnastics,NA\n",
      "Timo Antero Aaltonen,M,31,Finland,Athletics,NA\n",
      "Win Valdemar Aaltonen,M,54,Finland,Art Competitions,NA\n"
     ]
    }
   ],
   "source": [
    "olypmicsfile = open(\"olympics.txt\", \"r\")\n",
    "\n",
    "for aline in olypmicsfile.readlines():\n",
    "    line=aline.strip()\n",
    "    print(line)\n",
    "\n",
    "olypmicsfile.close()"
   ]
  },
  {
   "cell_type": "code",
   "execution_count": 7,
   "metadata": {},
   "outputs": [
    {
     "name": "stdout",
     "output_type": "stream",
     "text": [
      "A Dijiang is from China playing Basketball\n",
      "A Lamusi is from China playing Judo\n",
      "Gunnar Nielsen Aaby is from Denmark playing Football\n",
      "Edgar Lindenau Aabye is from Denmark/Sweden playing Tug-Of-War\n",
      "Christine Jacoba Aaftink is from Netherlands playing Speed Skating\n",
      "Christine Jacoba Aaftink is from Netherlands playing Speed Skating\n",
      "Christine Jacoba Aaftink is from Netherlands playing Speed Skating\n",
      "Christine Jacoba Aaftink is from Netherlands playing Speed Skating\n",
      "Christine Jacoba Aaftink is from Netherlands playing Speed Skating\n",
      "Christine Jacoba Aaftink is from Netherlands playing Speed Skating\n",
      "Per Knut Aaland is from United States playing Cross Country Skiing\n",
      "Per Knut Aaland is from United States playing Cross Country Skiing\n",
      "Per Knut Aaland is from United States playing Cross Country Skiing\n",
      "Per Knut Aaland is from United States playing Cross Country Skiing\n",
      "Per Knut Aaland is from United States playing Cross Country Skiing\n",
      "Per Knut Aaland is from United States playing Cross Country Skiing\n",
      "Per Knut Aaland is from United States playing Cross Country Skiing\n",
      "Per Knut Aaland is from United States playing Cross Country Skiing\n",
      "John Aalberg is from United States playing Cross Country Skiing\n",
      "John Aalberg is from United States playing Cross Country Skiing\n",
      "John Aalberg is from United States playing Cross Country Skiing\n",
      "John Aalberg is from United States playing Cross Country Skiing\n",
      "John Aalberg is from United States playing Cross Country Skiing\n",
      "John Aalberg is from United States playing Cross Country Skiing\n",
      "John Aalberg is from United States playing Cross Country Skiing\n",
      "John Aalberg is from United States playing Cross Country Skiing\n",
      "\"Cornelia \"\"Cor\"\" Aalten (-Strannood)\" is from Netherlands playing Athletics\n",
      "\"Cornelia \"\"Cor\"\" Aalten (-Strannood)\" is from Netherlands playing Athletics\n",
      "Antti Sami Aalto is from Finland playing Ice Hockey\n",
      "\"Einar Ferdinand \"\"Einari\"\" Aalto\" is from Finland playing Swimming\n",
      "Jorma Ilmari Aalto is from Finland playing Cross Country Skiing\n",
      "Jyri Tapani Aalto is from Finland playing Badminton\n",
      "Minna Maarit Aalto is from Finland playing Sailing\n",
      "Minna Maarit Aalto is from Finland playing Sailing\n",
      "Pirjo Hannele Aalto (Mattila-) is from Finland playing Biathlon\n",
      "Arvo Ossian Aaltonen is from Finland playing Swimming\n",
      "Arvo Ossian Aaltonen is from Finland playing Swimming\n",
      "Arvo Ossian Aaltonen is from Finland playing Swimming\n",
      "Arvo Ossian Aaltonen is from Finland playing Swimming\n",
      "Arvo Ossian Aaltonen is from Finland playing Swimming\n",
      "Juhamatti Tapio Aaltonen is from Finland playing Ice Hockey\n",
      "Paavo Johannes Aaltonen is from Finland playing Gymnastics\n",
      "Paavo Johannes Aaltonen is from Finland playing Gymnastics\n",
      "Paavo Johannes Aaltonen is from Finland playing Gymnastics\n",
      "Paavo Johannes Aaltonen is from Finland playing Gymnastics\n",
      "Paavo Johannes Aaltonen is from Finland playing Gymnastics\n",
      "Paavo Johannes Aaltonen is from Finland playing Gymnastics\n",
      "Paavo Johannes Aaltonen is from Finland playing Gymnastics\n",
      "Paavo Johannes Aaltonen is from Finland playing Gymnastics\n",
      "Paavo Johannes Aaltonen is from Finland playing Gymnastics\n",
      "Paavo Johannes Aaltonen is from Finland playing Gymnastics\n",
      "Paavo Johannes Aaltonen is from Finland playing Gymnastics\n",
      "Paavo Johannes Aaltonen is from Finland playing Gymnastics\n",
      "Paavo Johannes Aaltonen is from Finland playing Gymnastics\n",
      "Paavo Johannes Aaltonen is from Finland playing Gymnastics\n",
      "Paavo Johannes Aaltonen is from Finland playing Gymnastics\n",
      "Paavo Johannes Aaltonen is from Finland playing Gymnastics\n",
      "Timo Antero Aaltonen is from Finland playing Athletics\n",
      "Win Valdemar Aaltonen is from Finland playing Art Competitions\n"
     ]
    }
   ],
   "source": [
    "olypmicsfile = open(\"olympics.txt\", \"r\")\n",
    "\n",
    "for aline in olypmicsfile.readlines()[1:]:\n",
    "    aaline=aline.split(',')\n",
    "    name=aaline[0]\n",
    "    sex=aaline[1]\n",
    "    age=aaline[2]\n",
    "    team=aaline[3]\n",
    "    event=aaline[4]\n",
    "    medal=aaline[5]\n",
    "    line=f'{name} is from {team} playing {event}'\n",
    "    print(line)\n",
    "\n",
    "olypmicsfile.close()\n",
    "#line='{} is from {} playing {}'.format(aline[0],aline[3],aline[4])"
   ]
  },
  {
   "cell_type": "markdown",
   "metadata": {},
   "source": [
    "## Write code to find out how many lines are in the file olympics.txt as shown above. Save this value to the variable num_lines. Do not use the len method.\n"
   ]
  },
  {
   "cell_type": "code",
   "execution_count": 10,
   "metadata": {},
   "outputs": [
    {
     "name": "stdout",
     "output_type": "stream",
     "text": [
      "60\n"
     ]
    }
   ],
   "source": [
    "lines = open(\"olympics.txt\", \"r\")\n",
    "num_lines =  0\n",
    "for aline in lines.readlines():\n",
    "    num_lines+=1\n",
    "print(num_lines)\n",
    "lines.close()"
   ]
  },
  {
   "cell_type": "code",
   "execution_count": null,
   "metadata": {},
   "outputs": [],
   "source": [
    "md = open('olympics.txt', 'r')\n",
    "for line in md:\n",
    "    print(line.strip())\n",
    "md.close()\n",
    "# continue with other code"
   ]
  },
  {
   "cell_type": "code",
   "execution_count": 11,
   "metadata": {},
   "outputs": [
    {
     "name": "stdout",
     "output_type": "stream",
     "text": [
      "Name,Sex,Age,Team,Event,Medal\n",
      "A Dijiang,M,24,China,Basketball,NA\n",
      "A Lamusi,M,23,China,Judo,NA\n",
      "Gunnar Nielsen Aaby,M,24,Denmark,Football,NA\n",
      "Edgar Lindenau Aabye,M,34,Denmark/Sweden,Tug-Of-War,Gold\n",
      "Christine Jacoba Aaftink,F,21,Netherlands,Speed Skating,NA\n",
      "Christine Jacoba Aaftink,F,21,Netherlands,Speed Skating,NA\n",
      "Christine Jacoba Aaftink,F,25,Netherlands,Speed Skating,NA\n",
      "Christine Jacoba Aaftink,F,25,Netherlands,Speed Skating,NA\n",
      "Christine Jacoba Aaftink,F,27,Netherlands,Speed Skating,NA\n",
      "Christine Jacoba Aaftink,F,27,Netherlands,Speed Skating,NA\n",
      "Per Knut Aaland,M,31,United States,Cross Country Skiing,NA\n",
      "Per Knut Aaland,M,31,United States,Cross Country Skiing,NA\n",
      "Per Knut Aaland,M,31,United States,Cross Country Skiing,NA\n",
      "Per Knut Aaland,M,31,United States,Cross Country Skiing,NA\n",
      "Per Knut Aaland,M,33,United States,Cross Country Skiing,NA\n",
      "Per Knut Aaland,M,33,United States,Cross Country Skiing,NA\n",
      "Per Knut Aaland,M,33,United States,Cross Country Skiing,NA\n",
      "Per Knut Aaland,M,33,United States,Cross Country Skiing,NA\n",
      "John Aalberg,M,31,United States,Cross Country Skiing,NA\n",
      "John Aalberg,M,31,United States,Cross Country Skiing,NA\n",
      "John Aalberg,M,31,United States,Cross Country Skiing,NA\n",
      "John Aalberg,M,31,United States,Cross Country Skiing,NA\n",
      "John Aalberg,M,33,United States,Cross Country Skiing,NA\n",
      "John Aalberg,M,33,United States,Cross Country Skiing,NA\n",
      "John Aalberg,M,33,United States,Cross Country Skiing,NA\n",
      "John Aalberg,M,33,United States,Cross Country Skiing,NA\n",
      "\"Cornelia \"\"Cor\"\" Aalten (-Strannood)\",F,18,Netherlands,Athletics,NA\n",
      "\"Cornelia \"\"Cor\"\" Aalten (-Strannood)\",F,18,Netherlands,Athletics,NA\n",
      "Antti Sami Aalto,M,26,Finland,Ice Hockey,NA\n",
      "\"Einar Ferdinand \"\"Einari\"\" Aalto\",M,26,Finland,Swimming,NA\n",
      "Jorma Ilmari Aalto,M,22,Finland,Cross Country Skiing,NA\n",
      "Jyri Tapani Aalto,M,31,Finland,Badminton,NA\n",
      "Minna Maarit Aalto,F,30,Finland,Sailing,NA\n",
      "Minna Maarit Aalto,F,34,Finland,Sailing,NA\n",
      "Pirjo Hannele Aalto (Mattila-),F,32,Finland,Biathlon,NA\n",
      "Arvo Ossian Aaltonen,M,22,Finland,Swimming,NA\n",
      "Arvo Ossian Aaltonen,M,22,Finland,Swimming,NA\n",
      "Arvo Ossian Aaltonen,M,30,Finland,Swimming,Bronze\n",
      "Arvo Ossian Aaltonen,M,30,Finland,Swimming,Bronze\n",
      "Arvo Ossian Aaltonen,M,34,Finland,Swimming,NA\n",
      "Juhamatti Tapio Aaltonen,M,28,Finland,Ice Hockey,Bronze\n",
      "Paavo Johannes Aaltonen,M,28,Finland,Gymnastics,Bronze\n",
      "Paavo Johannes Aaltonen,M,28,Finland,Gymnastics,Gold\n",
      "Paavo Johannes Aaltonen,M,28,Finland,Gymnastics,NA\n",
      "Paavo Johannes Aaltonen,M,28,Finland,Gymnastics,Gold\n",
      "Paavo Johannes Aaltonen,M,28,Finland,Gymnastics,NA\n",
      "Paavo Johannes Aaltonen,M,28,Finland,Gymnastics,NA\n",
      "Paavo Johannes Aaltonen,M,28,Finland,Gymnastics,NA\n",
      "Paavo Johannes Aaltonen,M,28,Finland,Gymnastics,Gold\n",
      "Paavo Johannes Aaltonen,M,32,Finland,Gymnastics,NA\n",
      "Paavo Johannes Aaltonen,M,32,Finland,Gymnastics,Bronze\n",
      "Paavo Johannes Aaltonen,M,32,Finland,Gymnastics,NA\n",
      "Paavo Johannes Aaltonen,M,32,Finland,Gymnastics,NA\n",
      "Paavo Johannes Aaltonen,M,32,Finland,Gymnastics,NA\n",
      "Paavo Johannes Aaltonen,M,32,Finland,Gymnastics,NA\n",
      "Paavo Johannes Aaltonen,M,32,Finland,Gymnastics,NA\n",
      "Paavo Johannes Aaltonen,M,32,Finland,Gymnastics,NA\n",
      "Timo Antero Aaltonen,M,31,Finland,Athletics,NA\n",
      "Win Valdemar Aaltonen,M,54,Finland,Art Competitions,NA\n"
     ]
    }
   ],
   "source": [
    "with open('olympics.txt', 'r') as md:\n",
    "    for line in md.readlines():\n",
    "        print(line.strip())\n",
    "# continue on with other code"
   ]
  },
  {
   "cell_type": "markdown",
   "metadata": {},
   "source": [
    "# Writing Text Files\n",
    "One of the most commonly performed data processing tasks is to read data from a file, manipulate it in some way, and then write the resulting data out to a new data file to be used for other purposes later. To accomplish this, the open function discussed above can also be used to create a new file prepared for writing. Note in Table 1 that the only difference between opening a file for writing and opening a file for reading is the use of the 'w' flag instead of the 'r' flag as the second parameter. When we open a file for writing, a new, empty file with that name is created and made ready to accept our data. If an existing file has the same name, its contents are overwritten. As before, the function returns a reference to the new file object."
   ]
  },
  {
   "cell_type": "code",
   "execution_count": 14,
   "metadata": {},
   "outputs": [],
   "source": [
    "file = open('vaishuf.txt','w')\n",
    "for i in range(20):\n",
    "    file.write(str(i)+'\\n')\n",
    "file.close()"
   ]
  },
  {
   "cell_type": "code",
   "execution_count": 15,
   "metadata": {},
   "outputs": [
    {
     "name": "stdout",
     "output_type": "stream",
     "text": [
      "1\n",
      "4\n",
      "9\n",
      "16\n",
      "25\n"
     ]
    }
   ],
   "source": [
    "filename = \"squared_numbers.txt\"\n",
    "outfile = open(filename, \"w\")\n",
    "\n",
    "for number in range(1, 13):\n",
    "    value = number**2\n",
    "    outfile.write(str(value)+'\\n')\n",
    "    \n",
    "\n",
    "outfile.close()\n",
    "\n",
    "infile = open(filename, \"r\")\n",
    "print(infile.read()[:11])\n",
    "infile.close()"
   ]
  },
  {
   "cell_type": "markdown",
   "metadata": {},
   "source": [
    "# Hands-on exercise"
   ]
  },
  {
   "cell_type": "code",
   "execution_count": 8,
   "metadata": {},
   "outputs": [
    {
     "name": "stdout",
     "output_type": "stream",
     "text": [
      "{'stephen.marquard@uct.ac.za': 2, 'louis@media.berkeley.edu': 3, 'zqian@umich.edu': 4, 'rjlowe@iupui.edu': 2, 'cwen@iupui.edu': 5, 'gsilver@umich.edu': 3, 'wagnermr@iupui.edu': 1, 'antranig@caret.cam.ac.uk': 1, 'gopal.ramasammycook@gmail.com': 1, 'david.horwitz@uct.ac.za': 4, 'ray@media.berkeley.edu': 1}\n"
     ]
    }
   ],
   "source": [
    "file = open('emails.txt')\n",
    "dic = {}\n",
    "for email in file:\n",
    "    if email.startswith('From:'):\n",
    "        email = email.strip().split()[1]\n",
    "        if email not in dic:\n",
    "            dic[email] = 1\n",
    "        else:\n",
    "            dic[email] += 1\n",
    "print(dic)"
   ]
  },
  {
   "cell_type": "code",
   "execution_count": 21,
   "metadata": {},
   "outputs": [],
   "source": [
    "outfile = open(\"new_email.txt\", \"w\")\n",
    "file = open('emails.txt')\n",
    "dic = {}\n",
    "for email in file:\n",
    "    if email.startswith('From:'):\n",
    "        email = email.strip().split()[1]\n",
    "        if email not in dic:\n",
    "            dic[email] = 1\n",
    "        else:\n",
    "            dic[email] += 1\n",
    "# first add emails and frequency at the top of the text file\n",
    "outfile.write('Email, frequency'+'\\n')\n",
    "for key, value in dic.items():\n",
    "    # using .format methos add key and value in a sepatated variable\n",
    "    line='{}, {}'.format(key,value)\n",
    "    # write the output at 'new_email.txt' file\n",
    "    outfile.write(line+'\\n')\n",
    "file.close()\n",
    "outfile.close()"
   ]
  },
  {
   "cell_type": "code",
   "execution_count": 18,
   "metadata": {},
   "outputs": [
    {
     "name": "stdout",
     "output_type": "stream",
     "text": [
      "stephen.marquard@uct.ac.za, 2\n",
      "louis@media.berkeley.edu, 3\n",
      "zqian@umich.edu, 4\n",
      "rjlowe@iupui.edu, 2\n",
      "cwen@iupui.edu, 5\n",
      "gsilver@umich.edu, 3\n",
      "wagnermr@iupui.edu, 1\n",
      "antranig@caret.cam.ac.uk, 1\n",
      "gopal.ramasammycook@gmail.com, 1\n",
      "david.horwitz@uct.ac.za, 4\n",
      "ray@media.berkeley.edu, 1\n"
     ]
    }
   ],
   "source": [
    "infile = open(\"new_email.txt\", \"r\")\n",
    "for line in infile.readlines():\n",
    "    print(line.strip())\n",
    "infile.close()"
   ]
  },
  {
   "cell_type": "markdown",
   "metadata": {},
   "source": [
    "# CSV Format\n",
    "CSV stands for Comma Separated Values. If you print out tabular data in CSV format, it can be easily imported into other programs like Excel, Google spreadsheets, or a statistics package (R, stata, SPSS, etc.).\n",
    "\n",
    "For example, we can make a file with the following contents. If you save it as a file name grades.csv, then you could import it into one of those programs. The first line gives the column names and the later lines each give the data for one row.\n",
    "\n",
    "Name,score,grade\n",
    "Jamal,98,A+\n",
    "Eloise,87,B+\n",
    "Madeline,99,A+\n",
    "Wei,94,A"
   ]
  },
  {
   "cell_type": "markdown",
   "metadata": {},
   "source": [
    "# Writing data to a CSV File\n",
    "The typical pattern for writing data to a CSV file will be to write a header row and loop through the items in a list, outputting one row for each. Here we a have a list of tuples, each representing one Olympian, a subset of the rows and columns from the file we have been reading from."
   ]
  },
  {
   "cell_type": "code",
   "execution_count": 5,
   "metadata": {},
   "outputs": [],
   "source": [
    "olympians = [(\"John Aalberg\", 31, \"Cross Country Skiing\"),\n",
    "             (\"Minna Maarit Aalto\", 30, \"Sailing\"),\n",
    "             (\"Win Valdemar Aaltonen\", 54, \"Art Competitions\"),\n",
    "             (\"Wakako Abe\", 18, \"Cycling\")]\n",
    "\n",
    "outfile = open(\"reduced_olympics.csv\", \"w\")\n",
    "# output the header row\n",
    "outfile.write('Name,Age,Sport')\n",
    "outfile.write('\\n')\n",
    "# output each of the rows:\n",
    "for olympian in olympians:\n",
    "    row_string = '{},{},{}'.format(olympian[0], olympian[1], olympian[2])\n",
    "    outfile.write(row_string)\n",
    "    outfile.write('\\n')\n",
    "outfile.close()"
   ]
  },
  {
   "cell_type": "markdown",
   "metadata": {},
   "source": [
    "EVAL FUNCTION"
   ]
  },
  {
   "cell_type": "code",
   "execution_count": 24,
   "metadata": {},
   "outputs": [
    {
     "name": "stdout",
     "output_type": "stream",
     "text": [
      "enter:8+28+71*3-82\n"
     ]
    },
    {
     "data": {
      "text/plain": [
       "167"
      ]
     },
     "execution_count": 24,
     "metadata": {},
     "output_type": "execute_result"
    }
   ],
   "source": [
    "a=input('enter:')\n",
    "eval(a)"
   ]
  }
 ],
 "metadata": {
  "kernelspec": {
   "display_name": "Python 3",
   "language": "python",
   "name": "python3"
  },
  "language_info": {
   "codemirror_mode": {
    "name": "ipython",
    "version": 3
   },
   "file_extension": ".py",
   "mimetype": "text/x-python",
   "name": "python",
   "nbconvert_exporter": "python",
   "pygments_lexer": "ipython3",
   "version": "3.8.8"
  }
 },
 "nbformat": 4,
 "nbformat_minor": 4
}
